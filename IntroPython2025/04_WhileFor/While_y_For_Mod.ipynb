{
 "cells": [
  {
   "cell_type": "markdown",
   "metadata": {},
   "source": [
    "# El bucle while o bucle mientras \n",
    "\n",
    "Un bucle while **permite repetir un bloque de código mientras una condición se mantenga verdadera.** (es decir, mientras la condición tenga el valor True) .\n",
    "\n",
    "**while** condicion**:**\n",
    "\n",
    "    cuerpo del bucle\n",
    "    "
   ]
  },
  {
   "cell_type": "markdown",
   "metadata": {},
   "source": [
    "### El siguiente programa escribe los números del 1 al 10:"
   ]
  },
  {
   "cell_type": "markdown",
   "metadata": {},
   "source": []
  },
  {
   "cell_type": "code",
   "execution_count": 1,
   "metadata": {},
   "outputs": [
    {
     "name": "stdout",
     "output_type": "stream",
     "text": [
      "10\n",
      "9\n",
      "8\n",
      "7\n",
      "6\n",
      "5\n",
      "4\n",
      "3\n",
      "2\n",
      "1\n",
      "0\n"
     ]
    }
   ],
   "source": [
    "i = 10;\n",
    "while i >= 0:\n",
    "    print(i)\n",
    "    i-= 1\n"
   ]
  },
  {
   "cell_type": "code",
   "execution_count": null,
   "metadata": {},
   "outputs": [],
   "source": []
  },
  {
   "cell_type": "code",
   "execution_count": null,
   "metadata": {},
   "outputs": [],
   "source": []
  },
  {
   "cell_type": "markdown",
   "metadata": {},
   "source": [
    "## Genere la siguiente progresión geométrica\n",
    "\n",
    "$ 5,15,45,135,405,\\ldots,$ es una progresión geométrica con razón igual a 3, porque cada elemento es el triple del anterior. \n"
   ]
  },
  {
   "cell_type": "code",
   "execution_count": 5,
   "metadata": {},
   "outputs": [
    {
     "name": "stdout",
     "output_type": "stream",
     "text": [
      "5\n",
      "15\n",
      "45\n",
      "135\n",
      "405\n"
     ]
    }
   ],
   "source": [
    "i = 5\n",
    "while (i <= 405):\n",
    "    print(i)\n",
    "    i = i*3;"
   ]
  },
  {
   "cell_type": "code",
   "execution_count": null,
   "metadata": {},
   "outputs": [],
   "source": []
  },
  {
   "cell_type": "markdown",
   "metadata": {},
   "source": [
    "# Genere la siguiente progresiones aritmética\n",
    "\n",
    "- 3, 5, 7, 9,… \n",
    "\n",
    "- 5, 2, −1, −4,… \n"
   ]
  },
  {
   "cell_type": "code",
   "execution_count": 8,
   "metadata": {},
   "outputs": [
    {
     "name": "stdout",
     "output_type": "stream",
     "text": [
      "3\n",
      "5\n",
      "7\n",
      "9\n",
      "11\n",
      "13\n",
      "15\n",
      "17\n",
      "19\n"
     ]
    }
   ],
   "source": [
    "i = 3;\n",
    "while (i <= 20):\n",
    "\n",
    "    print(i)\n",
    "    i += 2;"
   ]
  },
  {
   "cell_type": "code",
   "execution_count": 11,
   "metadata": {},
   "outputs": [
    {
     "name": "stdout",
     "output_type": "stream",
     "text": [
      "5\n",
      "2\n",
      "-1\n",
      "-4\n",
      "-7\n",
      "-10\n",
      "-13\n",
      "-16\n",
      "-19\n"
     ]
    }
   ],
   "source": [
    "i = 5;\n",
    "while (i >= -20):\n",
    "\n",
    "    print(i)\n",
    "    i -= 3;"
   ]
  },
  {
   "cell_type": "code",
   "execution_count": null,
   "metadata": {},
   "outputs": [],
   "source": []
  },
  {
   "cell_type": "markdown",
   "metadata": {},
   "source": [
    "# Bucles FOR\n",
    "\n",
    "La sentencia for en Python difiere un poco de lo que uno puede estar acostumbrado en lenguajes como C o Java. \n",
    "\n",
    "En lugar de siempre iterar sobre una progresión aritmética de números o darle al usuario la posibilidad de definir tanto el paso de la iteración como la condición de fin (como en C), la sentencia **for** de Python **itera sobre los ítems de cualquier secuencia** (una **lista** o una **cadena de texto**), en el orden que aparecen en la secuencia.\n",
    "\n",
    "\n",
    "**for** item **in** secuencia:\n",
    "    \n",
    "     cuerpo del bucle"
   ]
  },
  {
   "cell_type": "code",
   "execution_count": 13,
   "metadata": {},
   "outputs": [
    {
     "name": "stdout",
     "output_type": "stream",
     "text": [
      "5\n",
      "7\n",
      "9\n",
      "11\n",
      "13\n",
      "15\n",
      "17\n",
      "19\n"
     ]
    }
   ],
   "source": [
    "for x in range(5,20, 2):\n",
    "    print(x)"
   ]
  },
  {
   "cell_type": "code",
   "execution_count": null,
   "metadata": {},
   "outputs": [],
   "source": []
  },
  {
   "cell_type": "code",
   "execution_count": 15,
   "metadata": {},
   "outputs": [
    {
     "name": "stdout",
     "output_type": "stream",
     "text": [
      "5, 15, 45, 135, 405, "
     ]
    }
   ],
   "source": [
    "for x in [5,15,45,135,405]:\n",
    "    print(x, end=', ')"
   ]
  },
  {
   "cell_type": "code",
   "execution_count": null,
   "metadata": {},
   "outputs": [],
   "source": []
  },
  {
   "cell_type": "markdown",
   "metadata": {},
   "source": [
    "# El tipo range\n",
    "\n",
    "El tipo range() con un único argumento se escribe range(n) y crea una lista inmutable de n números enteros consecutivos que empieza en 0 y acaba en n - 1.\n",
    "\n",
    "Para ver los valores del range(), es necesario convertirlo a lista mediante la función list().\n",
    "\n",
    "**El tipo range es una lista inmutable de números enteros en sucesión aritmética.**\n",
    "\n",
    "Inmutable significa que, a diferencia de las listas, **los range no se pueden modificar.**\n",
    "**Una sucesión artimética es una sucesión en la que la diferencia entre dos términos consecutivos es siempre la misma.**\n"
   ]
  },
  {
   "cell_type": "code",
   "execution_count": null,
   "metadata": {},
   "outputs": [],
   "source": [
    "range?"
   ]
  },
  {
   "cell_type": "code",
   "execution_count": null,
   "metadata": {},
   "outputs": [],
   "source": [
    "\n",
    "    print (i)\n",
    "print(\"Programa terminado\") "
   ]
  },
  {
   "cell_type": "code",
   "execution_count": null,
   "metadata": {
    "scrolled": true
   },
   "outputs": [],
   "source": [
    "\n",
    "    print (i)\n",
    "print(\"Programa terminado\")    "
   ]
  },
  {
   "cell_type": "code",
   "execution_count": null,
   "metadata": {},
   "outputs": [],
   "source": [
    "lis= \n",
    "print(lis)"
   ]
  },
  {
   "cell_type": "code",
   "execution_count": null,
   "metadata": {},
   "outputs": [],
   "source": []
  },
  {
   "cell_type": "code",
   "execution_count": null,
   "metadata": {},
   "outputs": [],
   "source": []
  },
  {
   "cell_type": "code",
   "execution_count": null,
   "metadata": {},
   "outputs": [],
   "source": []
  },
  {
   "cell_type": "markdown",
   "metadata": {},
   "source": [
    "# Sentencias utilitarias\n",
    "\n",
    "## Usando la sentencia ‘break’"
   ]
  },
  {
   "cell_type": "code",
   "execution_count": null,
   "metadata": {},
   "outputs": [],
   "source": [
    "# Usando while\n",
    "\n"
   ]
  },
  {
   "cell_type": "code",
   "execution_count": null,
   "metadata": {},
   "outputs": [],
   "source": [
    "# Usando for\n"
   ]
  },
  {
   "cell_type": "markdown",
   "metadata": {},
   "source": [
    "## Usando la sentencia ‘continue’"
   ]
  },
  {
   "cell_type": "code",
   "execution_count": null,
   "metadata": {},
   "outputs": [],
   "source": [
    "i = 1\n",
    "while i <= 10:\n",
    "    print(i)\n",
    "    i += 1\n",
    "    \n",
    "\n",
    "        \n",
    "    print (\"Segundo i:\",i)\n",
    "    print (\"Segundo i:\",i)\n",
    "    print (\"Segundo i:\",i)\n",
    "    print (\"Segundo i:\",i)\n",
    "\n",
    "print(\"Programa terminado\")"
   ]
  },
  {
   "cell_type": "code",
   "execution_count": null,
   "metadata": {},
   "outputs": [],
   "source": [
    "#Tener precaución usando continue con while\n",
    "\n",
    "i = 1\n",
    "while i <= 10:\n",
    "    print(i)\n",
    "#    if i == 5:\n",
    "#        continue\n",
    "    print (\"Segundo i:\",i)\n",
    "    i += 1\n",
    "print(\"Programa terminado\")"
   ]
  },
  {
   "cell_type": "code",
   "execution_count": null,
   "metadata": {},
   "outputs": [],
   "source": []
  },
  {
   "cell_type": "code",
   "execution_count": null,
   "metadata": {},
   "outputs": [],
   "source": []
  },
  {
   "cell_type": "code",
   "execution_count": null,
   "metadata": {},
   "outputs": [],
   "source": [
    "for i in range(10):\n",
    "    print (i)\n",
    "\n",
    "    print (\"Segundo i:\",i)\n",
    "    print (\"Segundo i:\",i)"
   ]
  },
  {
   "cell_type": "markdown",
   "metadata": {},
   "source": [
    "# Generar números pseudoaleatorios"
   ]
  },
  {
   "cell_type": "code",
   "execution_count": 2,
   "metadata": {},
   "outputs": [],
   "source": [
    "import random as rand"
   ]
  },
  {
   "cell_type": "code",
   "execution_count": 3,
   "metadata": {},
   "outputs": [
    {
     "data": {
      "text/plain": [
       "13"
      ]
     },
     "execution_count": 3,
     "metadata": {},
     "output_type": "execute_result"
    }
   ],
   "source": [
    "rand.randint(1, 100)"
   ]
  },
  {
   "cell_type": "markdown",
   "metadata": {},
   "source": [
    "# Juego simple. \n",
    "\n",
    "Adivina el numero que la maquina esta pensando!!!\n",
    "\n",
    "- En este pequeño juego el usuario trata de adivinar el número generado por la computadora. \n",
    "- Tiene solo tres oportunidades para adivinar el número. \n",
    "\n",
    "\n",
    "<!--\n",
    "    #print (\"Intento %d: Adivina el numero!!!\" %(i))\n",
    "    #print (\"Intento {}: Adivina el numero!!!\".format(i))\n",
    "    #print (\"Intento {0}: Adivina el numero!!!\".format(i))\n",
    "    #print (\"Intento\",i,\": Adivina el numero!!!\")\n",
    "    #print (\"Intento\"+str(i)+\": Adivina el numero!!!\")\n",
    "-->\n",
    "\n"
   ]
  },
  {
   "cell_type": "code",
   "execution_count": 4,
   "metadata": {},
   "outputs": [
    {
     "name": "stdout",
     "output_type": "stream",
     "text": [
      "Lo siento, no adivinaste el número. Inténtalo de nuevo.\n",
      "Intento número: 1 Elegido: 2\n",
      "Lo siento, no adivinaste el número. Inténtalo de nuevo.\n",
      "Intento número: 2 Elegido: 3\n",
      "¡Felicidades! Adivinaste el número.\n",
      "Programa terminado, numero =  1\n"
     ]
    }
   ],
   "source": [
    "import random as ran\n",
    "numeroComputadora = ran.randint(1,5)\n",
    "for i in range(3):\n",
    "    numeroUsuario = int(input(\"Ingrese un número entre el 1 - 5: \"))\n",
    "    \n",
    "    if(numeroUsuario == numeroComputadora):\n",
    "        print(\"¡Felicidades! Adivinaste el número.\")\n",
    "        break;\n",
    "    else:\n",
    "        print(\"Lo siento, no adivinaste el número. Inténtalo de nuevo.\")\n",
    "    print(\"Intento número:\", i + 1, \"Elegido:\", numeroUsuario)\n",
    "print(\"Programa terminado, numero = \", numeroComputadora)\n"
   ]
  },
  {
   "cell_type": "code",
   "execution_count": null,
   "metadata": {},
   "outputs": [],
   "source": []
  },
  {
   "cell_type": "code",
   "execution_count": null,
   "metadata": {},
   "outputs": [],
   "source": []
  },
  {
   "cell_type": "code",
   "execution_count": null,
   "metadata": {},
   "outputs": [],
   "source": []
  },
  {
   "cell_type": "code",
   "execution_count": null,
   "metadata": {},
   "outputs": [],
   "source": []
  },
  {
   "cell_type": "code",
   "execution_count": null,
   "metadata": {},
   "outputs": [],
   "source": []
  },
  {
   "cell_type": "markdown",
   "metadata": {},
   "source": [
    "## Tarea: Modificación del juego anterior\n",
    "\n",
    "- En este pequeño juego el usuario trata de adivinar el número generado por la computadora. \n",
    "- Tiene solo tres oportunidades para adivinarlo. \n",
    "- **Si el número no fue adivinado, el programa se reiniciara automáticamente hasta que se adivine el número. **"
   ]
  },
  {
   "cell_type": "code",
   "execution_count": 21,
   "metadata": {
    "scrolled": true
   },
   "outputs": [
    {
     "name": "stdout",
     "output_type": "stream",
     "text": [
      "Lo siento, no adivinaste el número. Inténtalo de nuevo.\n",
      "Intento número: 2 Elegido: 1\n",
      "Lo siento, no adivinaste el número. Inténtalo de nuevo.\n",
      "Intento número: 3 Elegido: 2\n",
      "Juego Reiniciado\n",
      "Intento número: 2 Elegido: 3\n",
      "Lo siento, no adivinaste el número. Inténtalo de nuevo.\n",
      "Intento número: 3 Elegido: 4\n",
      "Juego Reiniciado\n",
      "Intento número: 2 Elegido: 5\n",
      "¡Felicidades! Adivinaste el número.\n"
     ]
    }
   ],
   "source": [
    "import random as ran\n",
    "numeroComputadora = ran.randint(1,10)\n",
    "i=1;\n",
    "while i <= 3:\n",
    "    \n",
    "    numeroUsuario = int(input(\"Ingrese un número entre el 1 - 5: \"))\n",
    "    if(numeroUsuario == numeroComputadora):\n",
    "        print(\"¡Felicidades! Adivinaste el número.\")\n",
    "        break;\n",
    "    elif (numeroUsuario < 1 or numeroUsuario > 10):\n",
    "        print(\"Número fuera de rango. Debe ser entre 1 y 10.\")\n",
    "        continue\n",
    "    elif (i == 3):\n",
    "        i = 1\n",
    "        print(\"Juego Reiniciado\")\n",
    "    else:\n",
    "        print(\"Lo siento, no adivinaste el número. Inténtalo de nuevo.\")\n",
    "    print(\"Intento número:\", i + 1, \"Elegido:\", numeroUsuario)\n",
    "    i += 1\n"
   ]
  },
  {
   "cell_type": "markdown",
   "metadata": {},
   "source": [
    "## "
   ]
  },
  {
   "cell_type": "markdown",
   "metadata": {},
   "source": [
    "# Tarea: Sumatoria \n",
    "\n",
    "Haz un programa que pida el valor de dos enteros $n$ y $m$ y que muestre por pantalla el valor de\n",
    "\n",
    "$$ \\sum^{m}_{i=n}i $$"
   ]
  },
  {
   "cell_type": "code",
   "execution_count": 30,
   "metadata": {
    "run_control": {
     "marked": false
    }
   },
   "outputs": [
    {
     "name": "stdout",
     "output_type": "stream",
     "text": [
      "42\n"
     ]
    }
   ],
   "source": [
    "m = int(input(\"Escoge el valor de m\"))\n",
    "n = int(input(\"Escoge el valor de n\"))\n",
    "x = n\n",
    "while n < m:\n",
    "    x += x + n\n",
    "    n +=1\n",
    "print(x)\n",
    "\n"
   ]
  },
  {
   "cell_type": "code",
   "execution_count": null,
   "metadata": {},
   "outputs": [],
   "source": []
  },
  {
   "cell_type": "markdown",
   "metadata": {},
   "source": [
    "# Tarea: Programa que calcule el factorial\n",
    "\n",
    "Queremos hacer un programa que calcule el factorial de un número entero positivo. El factorial de $n$ se denota con $n!$\n",
    "\n",
    "$$n! = 1*2*3 * \\ldots (n-1)*n $$\n",
    "\n",
    "y que $0! = 1$, haz un programa que pida el valor de n y muestre por pantalla el resultado de calcular $n!$\n",
    "\n",
    "$$ n! := f(n)=\\prod^n_{k=1} k = 1*2*3 * \\ldots (n-1)*n$$\n",
    "\n",
    "También es posible definirlo mediante la relación de recurrencia\n",
    "\n",
    "$$ n! =\\delta(n) =\\begin{equation*}\n",
    "  \\left\\lbrace\n",
    "  \\begin{array}{lr}\n",
    "     \\delta(n) = 1 & \\text{ si, } n = 0 \\\\\n",
    "     \\delta(n) = (n-1)!\\times n & \\text{ si, } n > 0 \\\\\n",
    "  \\end{array}\n",
    "  \\right.\n",
    "\\end{equation*}$$"
   ]
  },
  {
   "cell_type": "code",
   "execution_count": null,
   "metadata": {},
   "outputs": [],
   "source": []
  },
  {
   "cell_type": "code",
   "execution_count": null,
   "metadata": {},
   "outputs": [],
   "source": []
  }
 ],
 "metadata": {
  "hide_input": false,
  "kernelspec": {
   "display_name": "UP",
   "language": "python",
   "name": "python3"
  },
  "language_info": {
   "codemirror_mode": {
    "name": "ipython",
    "version": 3
   },
   "file_extension": ".py",
   "mimetype": "text/x-python",
   "name": "python",
   "nbconvert_exporter": "python",
   "pygments_lexer": "ipython3",
   "version": "3.13.5"
  },
  "toc": {
   "base_numbering": 1,
   "nav_menu": {},
   "number_sections": true,
   "sideBar": true,
   "skip_h1_title": false,
   "title_cell": "Table of Contents",
   "title_sidebar": "Contents",
   "toc_cell": false,
   "toc_position": {
    "height": "calc(100% - 180px)",
    "left": "10px",
    "top": "150px",
    "width": "259px"
   },
   "toc_section_display": "block",
   "toc_window_display": false
  },
  "varInspector": {
   "cols": {
    "lenName": 16,
    "lenType": 16,
    "lenVar": 40
   },
   "kernels_config": {
    "python": {
     "delete_cmd_postfix": "",
     "delete_cmd_prefix": "del ",
     "library": "var_list.py",
     "varRefreshCmd": "print(var_dic_list())"
    },
    "r": {
     "delete_cmd_postfix": ") ",
     "delete_cmd_prefix": "rm(",
     "library": "var_list.r",
     "varRefreshCmd": "cat(var_dic_list()) "
    }
   },
   "types_to_exclude": [
    "module",
    "function",
    "builtin_function_or_method",
    "instance",
    "_Feature"
   ],
   "window_display": false
  }
 },
 "nbformat": 4,
 "nbformat_minor": 1
}
