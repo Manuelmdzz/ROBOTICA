{
 "cells": [
  {
   "cell_type": "markdown",
   "metadata": {},
   "source": [
    "# Funciones\n",
    "\n",
    "Una función es un bloque de código el cual puede ser ejecutado cuando y cuantas veces deseemos.\n",
    "\n",
    "La sintaxis para una definición de función en Python es:\n",
    "\n",
    "**def NOMBRE(** LISTA DE PARAMETROS **):**\n",
    "    \n",
    "    SENTENCIAS"
   ]
  },
  {
   "cell_type": "code",
   "execution_count": 2,
   "metadata": {},
   "outputs": [],
   "source": [
    "def hola():\n",
    "    print(\"Hola, mundo!\")\n"
   ]
  },
  {
   "cell_type": "markdown",
   "metadata": {},
   "source": [
    "### Una función, no es ejecutada hasta que no sea invocada. Para invocar una función, simplemente se la llama por su nombre:\n"
   ]
  },
  {
   "cell_type": "code",
   "execution_count": 3,
   "metadata": {},
   "outputs": [
    {
     "name": "stdout",
     "output_type": "stream",
     "text": [
      "Hola, mundo!\n"
     ]
    }
   ],
   "source": [
    "hola()"
   ]
  },
  {
   "cell_type": "markdown",
   "metadata": {},
   "source": [
    "### O podemos escribir una nueva función llamada **tres_saludos** que muestre tres saludos:"
   ]
  },
  {
   "cell_type": "code",
   "execution_count": 4,
   "metadata": {
    "collapsed": true
   },
   "outputs": [],
   "source": [
    "def media_2 (a, b = 3):\n",
    "    media = (a + b) / 2\n",
    "    print(\"La media es:\", media)\n",
    "    "
   ]
  },
  {
   "cell_type": "code",
   "execution_count": 5,
   "metadata": {},
   "outputs": [],
   "source": [
    "def saludar ( nombre = \"Mundo\", mensaje = \"Hola\" ):\n",
    "    print(mensaje, nombre)"
   ]
  },
  {
   "cell_type": "code",
   "execution_count": 8,
   "metadata": {},
   "outputs": [
    {
     "name": "stdout",
     "output_type": "stream",
     "text": [
      "Hola Mundo\n",
      "Hola Juan\n",
      "Buenos días Ana\n",
      "Buenas tardes Luis\n",
      "Saludos Mundo\n"
     ]
    }
   ],
   "source": [
    "saludar()\n",
    "saludar(\"Juan\", \"Hola\")\n",
    "saludar( nombre=\"Ana\" , mensaje=\"Buenos días\" )\n",
    "saludar(mensaje=\"Buenas tardes\", nombre=\"Luis\" )\n",
    "saludar(mensaje=\"Saludos\")\n"
   ]
  },
  {
   "cell_type": "code",
   "execution_count": 17,
   "metadata": {
    "collapsed": true
   },
   "outputs": [
    {
     "ename": "SyntaxError",
     "evalue": "positional argument follows keyword argument (400912608.py, line 1)",
     "output_type": "error",
     "traceback": [
      "  \u001b[36mCell\u001b[39m\u001b[36m \u001b[39m\u001b[32mIn[17]\u001b[39m\u001b[32m, line 1\u001b[39m\n\u001b[31m    \u001b[39m\u001b[31msaludar(nombre=\"María\", \"hola\")\u001b[39m\n                                  ^\n\u001b[31mSyntaxError\u001b[39m\u001b[31m:\u001b[39m positional argument follows keyword argument\n"
     ]
    }
   ],
   "source": [
    "saludar(nombre=\"María\", \"hola\")"
   ]
  },
  {
   "cell_type": "markdown",
   "metadata": {},
   "source": [
    "# Las funciones admiten parámetros en su llamada\n",
    "\n",
    "\n",
    "<font color=\"blue\"> Un parámetro es un valor que la función espera recibir cuando sea llamada (invocada) </font>\n",
    "a fin de ejecutar acciones en base al mismo. Una función puede esperar uno o más parámetros (que irán separados por una coma) o ninguno."
   ]
  },
  {
   "cell_type": "code",
   "execution_count": 32,
   "metadata": {},
   "outputs": [],
   "source": [
    "def media_2 (a,b):\n",
    "    media = (a + b) / 2\n",
    "    print (\"La media es:\", media)\n",
    "    return media\n",
    "    "
   ]
  },
  {
   "cell_type": "code",
   "execution_count": 33,
   "metadata": {},
   "outputs": [
    {
     "name": "stdout",
     "output_type": "stream",
     "text": [
      "La media es: 4.0\n",
      "La media es: 4.0\n",
      "La media es: 4.0\n",
      "La media es mayor que 3.5\n",
      "La media es: 4.0\n"
     ]
    }
   ],
   "source": [
    "media_2(6,2)\n",
    "\n",
    "if 3.5 > int(media_2(6,2)):\n",
    "    print(\"La media es menor o igual que 3.5\")\n",
    "elif 3.5 < media_2(6,2):\n",
    "    print(\"La media es mayor que 3.5\")  \n",
    "    print (\"La media es:\", media)"
   ]
  },
  {
   "cell_type": "markdown",
   "metadata": {},
   "source": [
    "### <font color = AB1010>Nota:</font> El número de valores que se pasan como parámetro al llamar a la función tiene que coincidir con el número de parámetros que la función acepta según la declaración de la función. "
   ]
  },
  {
   "cell_type": "markdown",
   "metadata": {},
   "source": [
    "# Parámetros por omisión"
   ]
  },
  {
   "cell_type": "code",
   "execution_count": 31,
   "metadata": {},
   "outputs": [
    {
     "ename": "TypeError",
     "evalue": "media_2() missing 1 required positional argument: 'b'",
     "output_type": "error",
     "traceback": [
      "\u001b[31m---------------------------------------------------------------------------\u001b[39m",
      "\u001b[31mTypeError\u001b[39m                                 Traceback (most recent call last)",
      "\u001b[36mCell\u001b[39m\u001b[36m \u001b[39m\u001b[32mIn[31]\u001b[39m\u001b[32m, line 5\u001b[39m\n\u001b[32m      2\u001b[39m     media = (a+b)/\u001b[32m2\u001b[39m\n\u001b[32m      3\u001b[39m     \u001b[38;5;28;01mreturn\u001b[39;00m media\n\u001b[32m----> \u001b[39m\u001b[32m5\u001b[39m \u001b[43mmedia_2\u001b[49m\u001b[43m(\u001b[49m\u001b[32;43m3\u001b[39;49m\u001b[43m)\u001b[49m\n\u001b[32m      6\u001b[39m media_2(\u001b[32m4\u001b[39m,\u001b[32m10\u001b[39m)\n",
      "\u001b[31mTypeError\u001b[39m: media_2() missing 1 required positional argument: 'b'"
     ]
    }
   ],
   "source": [
    "def media_2 (a,b):\n",
    "    media = (a+b)/2\n",
    "    return media\n",
    "\n",
    "media_2(3)\n",
    "media_2(4,10)"
   ]
  },
  {
   "cell_type": "markdown",
   "metadata": {},
   "source": [
    "\n",
    "## Sin embargo también es posible modificar el orden de los parámetros \n",
    "\n",
    "Si indicamos el nombre del parámetro al que asociar el valor a la hora de llamar a la función:"
   ]
  },
  {
   "cell_type": "code",
   "execution_count": null,
   "metadata": {},
   "outputs": [],
   "source": [
    "def saludar(nombre=\"Mundo\", mensaje='Hola'): \n",
    "    print (mensaje, nombre)\n"
   ]
  },
  {
   "cell_type": "markdown",
   "metadata": {},
   "source": [
    "# Además las funciones pueden regresar valores\n",
    "\n",
    "Cuando una función, haga un retorno de datos, éstos, pueden ser asignados a una variable."
   ]
  },
  {
   "cell_type": "code",
   "execution_count": 28,
   "metadata": {
    "collapsed": true
   },
   "outputs": [],
   "source": [
    "def media_3 (a,b):\n",
    "    media = (a+b)/2\n",
    "    return media\n"
   ]
  },
  {
   "cell_type": "code",
   "execution_count": 29,
   "metadata": {},
   "outputs": [
    {
     "name": "stdout",
     "output_type": "stream",
     "text": [
      "La media es  4.0\n"
     ]
    }
   ],
   "source": [
    "media = media_3(3,5)\n",
    "print (\"La media es \",media)"
   ]
  },
  {
   "cell_type": "markdown",
   "metadata": {},
   "source": [
    "### <font color = AB1010>Nota:</font> Esta función puede ser utilizada con más flexibilidad que la del ejemplo anterior, puesto que el programador puede elegir qué hacer con el valor calculado por la función. "
   ]
  },
  {
   "cell_type": "code",
   "execution_count": null,
   "metadata": {},
   "outputs": [],
   "source": [
    "if \n",
    "print (\"5 es mayor a la media\")"
   ]
  },
  {
   "cell_type": "markdown",
   "metadata": {},
   "source": [
    "# Tarea : \n",
    "\n",
    "Crea funciones para realizar cada una de las siguientes operaciones\n",
    "\n",
    "- a+b \n",
    "- $x^2$\n",
    "- Dada una lista de elementos calcular la media y desviacion estandar\n",
    "\n",
    "Calcular el promedio o media aritmética \n",
    "${\\displaystyle {\\overline {x}}={\\frac {1}{n}}\\sum _{i=1}^{n}x_{i}}$\n",
    "\n",
    "Calcular la desviación estándar $ \\sigma\\,\\!$\n",
    "\n",
    "$$\\sigma = \\sqrt{ \\frac{1}{n-1} \\sum _{i=1}^{n}(x_{i}-\\overline{x})^{2}} $$\n",
    "\n",
    "\n",
    "\n"
   ]
  },
  {
   "cell_type": "code",
   "execution_count": 34,
   "metadata": {},
   "outputs": [],
   "source": [
    "def suma(a, b):\n",
    "    return a + b\n",
    "def exp(a,b):\n",
    "    return a ** b"
   ]
  },
  {
   "cell_type": "code",
   "execution_count": null,
   "metadata": {},
   "outputs": [],
   "source": []
  },
  {
   "cell_type": "code",
   "execution_count": null,
   "metadata": {},
   "outputs": [],
   "source": []
  },
  {
   "cell_type": "markdown",
   "metadata": {},
   "source": [
    "# El ámbito local nolocal y global\n",
    "\n",
    "Variables de **ámbito local**. Es decir, que los parámetros serán **variables locales**, a las cuáles **solo la función podrá acceder**:\n",
    "\n",
    "Si a la variable se le asigna **valor en algún nivel intermedio la variable se considera no local** y si se le **asigna en el programa principal** la variable se considera **global.**"
   ]
  },
  {
   "cell_type": "markdown",
   "metadata": {},
   "source": [
    "# Ámbito global"
   ]
  },
  {
   "cell_type": "code",
   "execution_count": 35,
   "metadata": {},
   "outputs": [
    {
     "name": "stdout",
     "output_type": "stream",
     "text": [
      "El ámbito de la variable es global, valor  10\n"
     ]
    },
    {
     "ename": "NameError",
     "evalue": "name 'variable_Global' is not defined",
     "output_type": "error",
     "traceback": [
      "\u001b[31m---------------------------------------------------------------------------\u001b[39m",
      "\u001b[31mNameError\u001b[39m                                 Traceback (most recent call last)",
      "\u001b[36mCell\u001b[39m\u001b[36m \u001b[39m\u001b[32mIn[35]\u001b[39m\u001b[32m, line 17\u001b[39m\n\u001b[32m     15\u001b[39m variable_global = \u001b[32m0\u001b[39m\n\u001b[32m     16\u001b[39m funcion0()\n\u001b[32m---> \u001b[39m\u001b[32m17\u001b[39m \u001b[43mfuncion1\u001b[49m\u001b[43m(\u001b[49m\u001b[43m)\u001b[49m\n\u001b[32m     18\u001b[39m funcion2()\n\u001b[32m     19\u001b[39m \u001b[38;5;28mprint\u001b[39m (\u001b[33m\"\u001b[39m\u001b[33mY aquí también conozco\u001b[39m\u001b[33m\"\u001b[39m,variable_Global)\n",
      "\u001b[36mCell\u001b[39m\u001b[36m \u001b[39m\u001b[32mIn[35]\u001b[39m\u001b[32m, line 7\u001b[39m, in \u001b[36mfuncion1\u001b[39m\u001b[34m()\u001b[39m\n\u001b[32m      5\u001b[39m \u001b[38;5;28;01mdef\u001b[39;00m\u001b[38;5;250m \u001b[39m\u001b[34mfuncion1\u001b[39m():  \n\u001b[32m      6\u001b[39m     \u001b[38;5;28;01mglobal\u001b[39;00m variable_Global\n\u001b[32m----> \u001b[39m\u001b[32m7\u001b[39m     \u001b[38;5;28mprint\u001b[39m (\u001b[33m\"\u001b[39m\u001b[33mTambién aquí conozco el valor.\u001b[39m\u001b[33m\"\u001b[39m,\u001b[43mvariable_Global\u001b[49m)\n\u001b[32m      8\u001b[39m     variable_Global = \u001b[32m2\u001b[39m\n",
      "\u001b[31mNameError\u001b[39m: name 'variable_Global' is not defined"
     ]
    }
   ],
   "source": [
    "def funcion0 ():\n",
    "    variable_Global = 10\n",
    "    print (\"El ámbito de la variable es global, valor \",variable_Global)\n",
    "    \n",
    "def funcion1():  \n",
    "    global variable_Global\n",
    "    print (\"También aquí conozco el valor.\",variable_Global)\n",
    "    variable_Global = 2\n",
    "\n",
    "def funcion2():\n",
    "    global variable_Global\n",
    "    print (\"Y aquí también conozco\",variable_Global)\n",
    "    variable_Global = 3\n",
    "\n",
    "variable_global = 0\n",
    "funcion0()\n",
    "funcion1()\n",
    "funcion2()\n",
    "print (\"Y aquí también conozco\",variable_Global)"
   ]
  },
  {
   "cell_type": "code",
   "execution_count": 36,
   "metadata": {},
   "outputs": [
    {
     "data": {
      "text/plain": [
       "{'__name__': '__main__',\n",
       " '__doc__': 'Automatically created module for IPython interactive environment',\n",
       " '__package__': None,\n",
       " '__loader__': None,\n",
       " '__spec__': None,\n",
       " '__builtin__': <module 'builtins' (built-in)>,\n",
       " '__builtins__': <module 'builtins' (built-in)>,\n",
       " '_ih': ['',\n",
       "  'hola()',\n",
       "  'def hola():\\n    print(\"Hola, mundo!\")',\n",
       "  'hola()',\n",
       "  'def media_2 (a, b = 3):\\n    media = (a + b) / 2\\n    print(\"La media es:\", media)',\n",
       "  'def saludar ( nombre = \"Mundo\", mensaje = \"Hola\" ):\\n    print(mensaje, nombre)',\n",
       "  'saludar()\\nsaludar(\"Juan\", \"Hola\")\\nsaludar( nombre=\"Ana\" , mensaje=\"Buenos días\" )\\nsaludar(mensaje=\"Buenas tardes\", nombre=\"Luis\" )',\n",
       "  'saludar()\\nsaludar(\"Juan\", \"Hola\")\\nsaludar( nombre=\"Ana\" , mensaje=\"Buenos días\" )\\nsaludar(mensaje=\"Buenas tardes\", nombre=\"Luis\" )\\nsaludar(mensaje=\"Saludos\")\\nsaludar(nombre=\"María\", \"hola\")',\n",
       "  'saludar()\\nsaludar(\"Juan\", \"Hola\")\\nsaludar( nombre=\"Ana\" , mensaje=\"Buenos días\" )\\nsaludar(mensaje=\"Buenas tardes\", nombre=\"Luis\" )\\nsaludar(mensaje=\"Saludos\")',\n",
       "  'media_2 (a,b):\\n    media = (a + b) / 2\\n\\nprint (\"La media es:\",media )',\n",
       "  'def media_2 (a,b):\\n    media = (a + b) / 2\\n\\nprint (\"La media es:\",media )',\n",
       "  'def media_2 (a,b):\\n    media = (a + b) / 2\\n\\nprint (\"La media es:\",media_2(4,6)) )',\n",
       "  'def media_2 (a,b):\\n    media = (a + b) / 2\\n\\nprint (\"La media es:\",media_2(4,6))',\n",
       "  'def media_2 (a,b):\\n    media = (a + b) / 2\\n    print(\"La media es:\", media)\\n\\nprint (\"La media es:\",media_2(4,6))',\n",
       "  'def media_2 (a,b):\\n    media = (a + b) / 2\\n\\n    print (\"La media es:\", media_2(4,6))',\n",
       "  'def media_2 (a,b):\\n    media = (a + b) / 2\\n\\n    print (\"La media es:\", media)',\n",
       "  'media_2(6,2)\\nmedia_2\\nmedia_2',\n",
       "  'saludar(nombre=\"María\", \"hola\")',\n",
       "  'def media_2 (a,b):\\n    media = (a + b) / 2\\n    print (\"La media es:\", media)',\n",
       "  'media_2(6,2)\\n\\nif 3.5 >= media_2(6,2):\\n    print(\"La media es menor o igual que 3.5\")`\\nelse if 3.5 < media_2(6,2):\\n    print(\"La media es mayor que 3.5\")  \\n    print (\"La media es:\", media)`',\n",
       "  'media_2(6,2)\\n\\nif 3.5 >= media_2(6,2):\\n    print(\"La media es menor o igual que 3.5\")`\\nelif 3.5 < media_2(6,2):\\n    print(\"La media es mayor que 3.5\")  \\n    print (\"La media es:\", media)`',\n",
       "  'media_2(6,2)\\n\\nif 3.5 >= media_2(6,2):\\n    print(\"La media es menor o igual que 3.5\")\\nelif 3.5 < media_2(6,2):\\n    print(\"La media es mayor que 3.5\")  \\n    print (\"La media es:\", media)`',\n",
       "  'media_2(6,2)\\n\\nif 3.5 >= media_2(6,2):\\n    print(\"La media es menor o igual que 3.5\")\\nelif 3.5 < media_2(6,2):\\n    print(\"La media es mayor que 3.5\")  \\n    print (\"La media es:\", media)',\n",
       "  'media_2(6,2)\\n\\nif 3.5 > media_2(6,2):\\n    print(\"La media es menor o igual que 3.5\")\\nelif 3.5 < media_2(6,2):\\n    print(\"La media es mayor que 3.5\")  \\n    print (\"La media es:\", media)',\n",
       "  'media_2(6,2)\\n\\nif 3.5 > int(media_2(6,2)):\\n    print(\"La media es menor o igual que 3.5\")\\nelif 3.5 < media_2(6,2):\\n    print(\"La media es mayor que 3.5\")  \\n    print (\"La media es:\", media)',\n",
       "  'def media_2 (a,b):\\n    media = (a+b)/2\\n    print (\"La media es:\",media )\\n\\nmedia_2(3)\\nmedia_2(4,10)',\n",
       "  'media = media_3\\nprint (\"La media es \",media)',\n",
       "  'media = media_3(3,5)\\nprint (\"La media es \",media)',\n",
       "  'def media_3 (a,b):\\n    media = (a+b)/2\\n    return media',\n",
       "  'media = media_3(3,5)\\nprint (\"La media es \",media)',\n",
       "  'def media_2 (a,b):\\n    media = (a+b)/2\\n    retirn media\\n\\nmedia_2(3)\\nmedia_2(4,10)',\n",
       "  'def media_2 (a,b):\\n    media = (a+b)/2\\n    return media\\n\\nmedia_2(3)\\nmedia_2(4,10)',\n",
       "  'def media_2 (a,b):\\n    media = (a + b) / 2\\n    print (\"La media es:\", media)\\n    return media',\n",
       "  'media_2(6,2)\\n\\nif 3.5 > int(media_2(6,2)):\\n    print(\"La media es menor o igual que 3.5\")\\nelif 3.5 < media_2(6,2):\\n    print(\"La media es mayor que 3.5\")  \\n    print (\"La media es:\", media)',\n",
       "  'def suma(a, b):\\n    return a + b\\ndef exp(a,b):\\n    return a ** b',\n",
       "  'def funcion0 ():\\n    variable_Global = 10\\n    print (\"El ámbito de la variable es global, valor \",variable_Global)\\n\\ndef funcion1():  \\n    global variable_Global\\n    print (\"También aquí conozco el valor.\",variable_Global)\\n    variable_Global = 2\\n\\ndef funcion2():\\n    global variable_Global\\n    print (\"Y aquí también conozco\",variable_Global)\\n    variable_Global = 3\\n\\nvariable_global = 0\\nfuncion0()\\nfuncion1()\\nfuncion2()\\nprint (\"Y aquí también conozco\",variable_Global)',\n",
       "  'globals()'],\n",
       " '_oh': {16: <function __main__.media_2(a, b)>},\n",
       " '_dh': [WindowsPath('c:/UP/PYTHON/ROBOTICS/IntroPython2025/06_Funciones')],\n",
       " 'In': ['',\n",
       "  'hola()',\n",
       "  'def hola():\\n    print(\"Hola, mundo!\")',\n",
       "  'hola()',\n",
       "  'def media_2 (a, b = 3):\\n    media = (a + b) / 2\\n    print(\"La media es:\", media)',\n",
       "  'def saludar ( nombre = \"Mundo\", mensaje = \"Hola\" ):\\n    print(mensaje, nombre)',\n",
       "  'saludar()\\nsaludar(\"Juan\", \"Hola\")\\nsaludar( nombre=\"Ana\" , mensaje=\"Buenos días\" )\\nsaludar(mensaje=\"Buenas tardes\", nombre=\"Luis\" )',\n",
       "  'saludar()\\nsaludar(\"Juan\", \"Hola\")\\nsaludar( nombre=\"Ana\" , mensaje=\"Buenos días\" )\\nsaludar(mensaje=\"Buenas tardes\", nombre=\"Luis\" )\\nsaludar(mensaje=\"Saludos\")\\nsaludar(nombre=\"María\", \"hola\")',\n",
       "  'saludar()\\nsaludar(\"Juan\", \"Hola\")\\nsaludar( nombre=\"Ana\" , mensaje=\"Buenos días\" )\\nsaludar(mensaje=\"Buenas tardes\", nombre=\"Luis\" )\\nsaludar(mensaje=\"Saludos\")',\n",
       "  'media_2 (a,b):\\n    media = (a + b) / 2\\n\\nprint (\"La media es:\",media )',\n",
       "  'def media_2 (a,b):\\n    media = (a + b) / 2\\n\\nprint (\"La media es:\",media )',\n",
       "  'def media_2 (a,b):\\n    media = (a + b) / 2\\n\\nprint (\"La media es:\",media_2(4,6)) )',\n",
       "  'def media_2 (a,b):\\n    media = (a + b) / 2\\n\\nprint (\"La media es:\",media_2(4,6))',\n",
       "  'def media_2 (a,b):\\n    media = (a + b) / 2\\n    print(\"La media es:\", media)\\n\\nprint (\"La media es:\",media_2(4,6))',\n",
       "  'def media_2 (a,b):\\n    media = (a + b) / 2\\n\\n    print (\"La media es:\", media_2(4,6))',\n",
       "  'def media_2 (a,b):\\n    media = (a + b) / 2\\n\\n    print (\"La media es:\", media)',\n",
       "  'media_2(6,2)\\nmedia_2\\nmedia_2',\n",
       "  'saludar(nombre=\"María\", \"hola\")',\n",
       "  'def media_2 (a,b):\\n    media = (a + b) / 2\\n    print (\"La media es:\", media)',\n",
       "  'media_2(6,2)\\n\\nif 3.5 >= media_2(6,2):\\n    print(\"La media es menor o igual que 3.5\")`\\nelse if 3.5 < media_2(6,2):\\n    print(\"La media es mayor que 3.5\")  \\n    print (\"La media es:\", media)`',\n",
       "  'media_2(6,2)\\n\\nif 3.5 >= media_2(6,2):\\n    print(\"La media es menor o igual que 3.5\")`\\nelif 3.5 < media_2(6,2):\\n    print(\"La media es mayor que 3.5\")  \\n    print (\"La media es:\", media)`',\n",
       "  'media_2(6,2)\\n\\nif 3.5 >= media_2(6,2):\\n    print(\"La media es menor o igual que 3.5\")\\nelif 3.5 < media_2(6,2):\\n    print(\"La media es mayor que 3.5\")  \\n    print (\"La media es:\", media)`',\n",
       "  'media_2(6,2)\\n\\nif 3.5 >= media_2(6,2):\\n    print(\"La media es menor o igual que 3.5\")\\nelif 3.5 < media_2(6,2):\\n    print(\"La media es mayor que 3.5\")  \\n    print (\"La media es:\", media)',\n",
       "  'media_2(6,2)\\n\\nif 3.5 > media_2(6,2):\\n    print(\"La media es menor o igual que 3.5\")\\nelif 3.5 < media_2(6,2):\\n    print(\"La media es mayor que 3.5\")  \\n    print (\"La media es:\", media)',\n",
       "  'media_2(6,2)\\n\\nif 3.5 > int(media_2(6,2)):\\n    print(\"La media es menor o igual que 3.5\")\\nelif 3.5 < media_2(6,2):\\n    print(\"La media es mayor que 3.5\")  \\n    print (\"La media es:\", media)',\n",
       "  'def media_2 (a,b):\\n    media = (a+b)/2\\n    print (\"La media es:\",media )\\n\\nmedia_2(3)\\nmedia_2(4,10)',\n",
       "  'media = media_3\\nprint (\"La media es \",media)',\n",
       "  'media = media_3(3,5)\\nprint (\"La media es \",media)',\n",
       "  'def media_3 (a,b):\\n    media = (a+b)/2\\n    return media',\n",
       "  'media = media_3(3,5)\\nprint (\"La media es \",media)',\n",
       "  'def media_2 (a,b):\\n    media = (a+b)/2\\n    retirn media\\n\\nmedia_2(3)\\nmedia_2(4,10)',\n",
       "  'def media_2 (a,b):\\n    media = (a+b)/2\\n    return media\\n\\nmedia_2(3)\\nmedia_2(4,10)',\n",
       "  'def media_2 (a,b):\\n    media = (a + b) / 2\\n    print (\"La media es:\", media)\\n    return media',\n",
       "  'media_2(6,2)\\n\\nif 3.5 > int(media_2(6,2)):\\n    print(\"La media es menor o igual que 3.5\")\\nelif 3.5 < media_2(6,2):\\n    print(\"La media es mayor que 3.5\")  \\n    print (\"La media es:\", media)',\n",
       "  'def suma(a, b):\\n    return a + b\\ndef exp(a,b):\\n    return a ** b',\n",
       "  'def funcion0 ():\\n    variable_Global = 10\\n    print (\"El ámbito de la variable es global, valor \",variable_Global)\\n\\ndef funcion1():  \\n    global variable_Global\\n    print (\"También aquí conozco el valor.\",variable_Global)\\n    variable_Global = 2\\n\\ndef funcion2():\\n    global variable_Global\\n    print (\"Y aquí también conozco\",variable_Global)\\n    variable_Global = 3\\n\\nvariable_global = 0\\nfuncion0()\\nfuncion1()\\nfuncion2()\\nprint (\"Y aquí también conozco\",variable_Global)',\n",
       "  'globals()'],\n",
       " 'Out': {16: <function __main__.media_2(a, b)>},\n",
       " 'get_ipython': <bound method InteractiveShell.get_ipython of <ipykernel.zmqshell.ZMQInteractiveShell object at 0x0000029497E134D0>>,\n",
       " 'exit': <IPython.core.autocall.ZMQExitAutocall at 0x29497eb4d70>,\n",
       " 'quit': <IPython.core.autocall.ZMQExitAutocall at 0x29497eb4d70>,\n",
       " 'open': <function _io.open(file, mode='r', buffering=-1, encoding=None, errors=None, newline=None, closefd=True, opener=None)>,\n",
       " '_': <function __main__.media_2(a, b)>,\n",
       " '__': '',\n",
       " '___': '',\n",
       " '__vsc_ipynb_file__': 'c:\\\\UP\\\\PYTHON\\\\ROBOTICS\\\\IntroPython2025\\\\06_Funciones\\\\FuncionesMod_Mod.ipynb',\n",
       " '_i': 'def funcion0 ():\\n    variable_Global = 10\\n    print (\"El ámbito de la variable es global, valor \",variable_Global)\\n    \\ndef funcion1():  \\n    global variable_Global\\n    print (\"También aquí conozco el valor.\",variable_Global)\\n    variable_Global = 2\\n\\ndef funcion2():\\n    global variable_Global\\n    print (\"Y aquí también conozco\",variable_Global)\\n    variable_Global = 3\\n\\nvariable_global = 0\\nfuncion0()\\nfuncion1()\\nfuncion2()\\nprint (\"Y aquí también conozco\",variable_Global)',\n",
       " '_ii': 'def suma(a, b):\\n    return a + b\\ndef exp(a,b):\\n    return a ** b',\n",
       " '_iii': 'media_2(6,2)\\n\\nif 3.5 > int(media_2(6,2)):\\n    print(\"La media es menor o igual que 3.5\")\\nelif 3.5 < media_2(6,2):\\n    print(\"La media es mayor que 3.5\")  \\n    print (\"La media es:\", media)',\n",
       " '_i1': 'hola()',\n",
       " '_i2': 'def hola():\\n    print(\"Hola, mundo!\")',\n",
       " 'hola': <function __main__.hola()>,\n",
       " '_i3': 'hola()',\n",
       " '_i4': 'def media_2 (a, b = 3):\\n    media = (a + b) / 2\\n    print(\"La media es:\", media)\\n    ',\n",
       " 'media_2': <function __main__.media_2(a, b)>,\n",
       " '_i5': 'def saludar ( nombre = \"Mundo\", mensaje = \"Hola\" ):\\n    print(mensaje, nombre)',\n",
       " 'saludar': <function __main__.saludar(nombre='Mundo', mensaje='Hola')>,\n",
       " '_i6': 'saludar()\\nsaludar(\"Juan\", \"Hola\")\\nsaludar( nombre=\"Ana\" , mensaje=\"Buenos días\" )\\nsaludar(mensaje=\"Buenas tardes\", nombre=\"Luis\" )',\n",
       " '_i7': 'saludar()\\nsaludar(\"Juan\", \"Hola\")\\nsaludar( nombre=\"Ana\" , mensaje=\"Buenos días\" )\\nsaludar(mensaje=\"Buenas tardes\", nombre=\"Luis\" )\\nsaludar(mensaje=\"Saludos\")\\nsaludar(nombre=\"María\", \"hola\")',\n",
       " '_i8': 'saludar()\\nsaludar(\"Juan\", \"Hola\")\\nsaludar( nombre=\"Ana\" , mensaje=\"Buenos días\" )\\nsaludar(mensaje=\"Buenas tardes\", nombre=\"Luis\" )\\nsaludar(mensaje=\"Saludos\")',\n",
       " '_i9': 'media_2 (a,b):\\n    media = (a + b) / 2\\n    \\nprint (\"La media es:\",media )\\n    ',\n",
       " '_i10': 'def media_2 (a,b):\\n    media = (a + b) / 2\\n    \\nprint (\"La media es:\",media )\\n    ',\n",
       " '_i11': 'def media_2 (a,b):\\n    media = (a + b) / 2\\n    \\nprint (\"La media es:\",media_2(4,6)) )\\n    ',\n",
       " '_i12': 'def media_2 (a,b):\\n    media = (a + b) / 2\\n    \\nprint (\"La media es:\",media_2(4,6))\\n    ',\n",
       " '_i13': 'def media_2 (a,b):\\n    media = (a + b) / 2\\n    print(\"La media es:\", media)\\n    \\nprint (\"La media es:\",media_2(4,6))\\n    ',\n",
       " '_i14': 'def media_2 (a,b):\\n    media = (a + b) / 2\\n    \\n    print (\"La media es:\", media_2(4,6))\\n    ',\n",
       " '_i15': 'def media_2 (a,b):\\n    media = (a + b) / 2\\n    \\n    print (\"La media es:\", media)\\n    ',\n",
       " '_i16': 'media_2(6,2)\\nmedia_2\\nmedia_2',\n",
       " '_16': <function __main__.media_2(a, b)>,\n",
       " '_i17': 'saludar(nombre=\"María\", \"hola\")',\n",
       " '_i18': 'def media_2 (a,b):\\n    media = (a + b) / 2\\n    print (\"La media es:\", media)\\n    ',\n",
       " '_i19': 'media_2(6,2)\\n\\nif 3.5 >= media_2(6,2):\\n    print(\"La media es menor o igual que 3.5\")`\\nelse if 3.5 < media_2(6,2):\\n    print(\"La media es mayor que 3.5\")  \\n    print (\"La media es:\", media)`',\n",
       " '_i20': 'media_2(6,2)\\n\\nif 3.5 >= media_2(6,2):\\n    print(\"La media es menor o igual que 3.5\")`\\nelif 3.5 < media_2(6,2):\\n    print(\"La media es mayor que 3.5\")  \\n    print (\"La media es:\", media)`',\n",
       " '_i21': 'media_2(6,2)\\n\\nif 3.5 >= media_2(6,2):\\n    print(\"La media es menor o igual que 3.5\")\\nelif 3.5 < media_2(6,2):\\n    print(\"La media es mayor que 3.5\")  \\n    print (\"La media es:\", media)`',\n",
       " '_i22': 'media_2(6,2)\\n\\nif 3.5 >= media_2(6,2):\\n    print(\"La media es menor o igual que 3.5\")\\nelif 3.5 < media_2(6,2):\\n    print(\"La media es mayor que 3.5\")  \\n    print (\"La media es:\", media)',\n",
       " '_i23': 'media_2(6,2)\\n\\nif 3.5 > media_2(6,2):\\n    print(\"La media es menor o igual que 3.5\")\\nelif 3.5 < media_2(6,2):\\n    print(\"La media es mayor que 3.5\")  \\n    print (\"La media es:\", media)',\n",
       " '_i24': 'media_2(6,2)\\n\\nif 3.5 > int(media_2(6,2)):\\n    print(\"La media es menor o igual que 3.5\")\\nelif 3.5 < media_2(6,2):\\n    print(\"La media es mayor que 3.5\")  \\n    print (\"La media es:\", media)',\n",
       " '_i25': 'def media_2 (a,b):\\n    media = (a+b)/2\\n    print (\"La media es:\",media )\\n\\nmedia_2(3)\\nmedia_2(4,10)',\n",
       " '_i26': 'media = media_3\\nprint (\"La media es \",media)',\n",
       " '_i27': 'media = media_3(3,5)\\nprint (\"La media es \",media)',\n",
       " '_i28': 'def media_3 (a,b):\\n    media = (a+b)/2\\n    return media',\n",
       " 'media_3': <function __main__.media_3(a, b)>,\n",
       " '_i29': 'media = media_3(3,5)\\nprint (\"La media es \",media)',\n",
       " 'media': 4.0,\n",
       " '_i30': 'def media_2 (a,b):\\n    media = (a+b)/2\\n    retirn media\\n\\nmedia_2(3)\\nmedia_2(4,10)',\n",
       " '_i31': 'def media_2 (a,b):\\n    media = (a+b)/2\\n    return media\\n\\nmedia_2(3)\\nmedia_2(4,10)',\n",
       " '_i32': 'def media_2 (a,b):\\n    media = (a + b) / 2\\n    print (\"La media es:\", media)\\n    return media\\n    ',\n",
       " '_i33': 'media_2(6,2)\\n\\nif 3.5 > int(media_2(6,2)):\\n    print(\"La media es menor o igual que 3.5\")\\nelif 3.5 < media_2(6,2):\\n    print(\"La media es mayor que 3.5\")  \\n    print (\"La media es:\", media)',\n",
       " '_i34': 'def suma(a, b):\\n    return a + b\\ndef exp(a,b):\\n    return a ** b',\n",
       " 'suma': <function __main__.suma(a, b)>,\n",
       " 'exp': <function __main__.exp(a, b)>,\n",
       " '_i35': 'def funcion0 ():\\n    variable_Global = 10\\n    print (\"El ámbito de la variable es global, valor \",variable_Global)\\n    \\ndef funcion1():  \\n    global variable_Global\\n    print (\"También aquí conozco el valor.\",variable_Global)\\n    variable_Global = 2\\n\\ndef funcion2():\\n    global variable_Global\\n    print (\"Y aquí también conozco\",variable_Global)\\n    variable_Global = 3\\n\\nvariable_global = 0\\nfuncion0()\\nfuncion1()\\nfuncion2()\\nprint (\"Y aquí también conozco\",variable_Global)',\n",
       " 'funcion0': <function __main__.funcion0()>,\n",
       " 'funcion1': <function __main__.funcion1()>,\n",
       " 'funcion2': <function __main__.funcion2()>,\n",
       " 'variable_global': 0,\n",
       " '_i36': 'globals()'}"
      ]
     },
     "execution_count": 36,
     "metadata": {},
     "output_type": "execute_result"
    }
   ],
   "source": [
    "globals()"
   ]
  },
  {
   "cell_type": "markdown",
   "metadata": {},
   "source": [
    "\n",
    "### Si queremos asignar valor a una variable en una funcion, pero no queremos que Python la considere local, debemos declararla en la función como **global** "
   ]
  },
  {
   "cell_type": "code",
   "execution_count": 3,
   "metadata": {},
   "outputs": [
    {
     "name": "stdout",
     "output_type": "stream",
     "text": [
      "El ámbito de la variable es global, valor  10\n",
      "El ámbito de la variable es global, valor  1\n",
      "También aquí conozco el valor. 2\n",
      "Y aquí también conozco 3\n"
     ]
    }
   ],
   "source": [
    "def funcion_0 ():\n",
    "    \n",
    "    print (\"El ámbito de la variable es global, valor \",variable_Global)\n",
    "\n",
    "    \n",
    "def funcion_1 ():\n",
    "\n",
    "    print (\"El ámbito de la variable es global, valor \",variable_Global)\n",
    "\n",
    "    \n",
    "def funcion_2():  \n",
    "\n",
    "    print (\"También aquí conozco el valor.\",variable_Global)\n",
    "\n",
    "\n",
    "variable_Global = 1\n",
    "funcion_0()\n",
    "funcion_1()\n",
    "funcion_2()\n",
    "print (\"Y aquí también conozco\",variable_Global)"
   ]
  },
  {
   "cell_type": "markdown",
   "metadata": {},
   "source": [
    "# Ámbito local"
   ]
  },
  {
   "cell_type": "code",
   "execution_count": 4,
   "metadata": {},
   "outputs": [
    {
     "ename": "NameError",
     "evalue": "name 'variable_Local2' is not defined",
     "output_type": "error",
     "traceback": [
      "\u001b[0;31m---------------------------------------------------------------------------\u001b[0m",
      "\u001b[0;31mNameError\u001b[0m                                 Traceback (most recent call last)",
      "\u001b[0;32m<ipython-input-4-43a5f7065ea5>\u001b[0m in \u001b[0;36m<module>\u001b[0;34m()\u001b[0m\n\u001b[1;32m      6\u001b[0m     \u001b[0mprint\u001b[0m \u001b[0;34m(\u001b[0m\u001b[0;34m\"Y aquí no la conozco\"\u001b[0m\u001b[0;34m,\u001b[0m\u001b[0mvariable_Local1\u001b[0m\u001b[0;34m,\u001b[0m\u001b[0mvariable_Local2\u001b[0m\u001b[0;34m)\u001b[0m\u001b[0;34m\u001b[0m\u001b[0m\n\u001b[1;32m      7\u001b[0m \u001b[0;34m\u001b[0m\u001b[0m\n\u001b[0;32m----> 8\u001b[0;31m \u001b[0mfuncion_3\u001b[0m\u001b[0;34m(\u001b[0m\u001b[0;36m4\u001b[0m\u001b[0;34m)\u001b[0m\u001b[0;34m\u001b[0m\u001b[0m\n\u001b[0m\u001b[1;32m      9\u001b[0m \u001b[0mfuncion_4\u001b[0m \u001b[0;34m(\u001b[0m\u001b[0;34m)\u001b[0m\u001b[0;34m\u001b[0m\u001b[0m\n\u001b[1;32m     10\u001b[0m \u001b[0;31m#print (\"Y aquí no la conozco\",variable_Local1,variable_Local2)\u001b[0m\u001b[0;34m\u001b[0m\u001b[0;34m\u001b[0m\u001b[0m\n",
      "\u001b[0;32m<ipython-input-4-43a5f7065ea5>\u001b[0m in \u001b[0;36mfuncion_3\u001b[0;34m(variable_Local1)\u001b[0m\n\u001b[1;32m      1\u001b[0m \u001b[0;32mdef\u001b[0m \u001b[0mfuncion_3\u001b[0m \u001b[0;34m(\u001b[0m\u001b[0mvariable_Local1\u001b[0m\u001b[0;34m)\u001b[0m\u001b[0;34m:\u001b[0m\u001b[0;34m\u001b[0m\u001b[0m\n\u001b[1;32m      2\u001b[0m \u001b[0;34m\u001b[0m\u001b[0m\n\u001b[0;32m----> 3\u001b[0;31m     \u001b[0mprint\u001b[0m \u001b[0;34m(\u001b[0m\u001b[0;34m\"El ámbito de la variable es local, valor \"\u001b[0m\u001b[0;34m,\u001b[0m\u001b[0mvariable_Local1\u001b[0m\u001b[0;34m,\u001b[0m\u001b[0mvariable_Local2\u001b[0m\u001b[0;34m)\u001b[0m\u001b[0;34m\u001b[0m\u001b[0m\n\u001b[0m\u001b[1;32m      4\u001b[0m \u001b[0;34m\u001b[0m\u001b[0m\n\u001b[1;32m      5\u001b[0m \u001b[0;32mdef\u001b[0m \u001b[0mfuncion_4\u001b[0m \u001b[0;34m(\u001b[0m\u001b[0;34m)\u001b[0m\u001b[0;34m:\u001b[0m\u001b[0;34m\u001b[0m\u001b[0m\n",
      "\u001b[0;31mNameError\u001b[0m: name 'variable_Local2' is not defined"
     ]
    }
   ],
   "source": [
    "def funcion_3 (variable_Local1):\n",
    "\n",
    "    print (\"El ámbito de la variable es local, valor \",variable_Local1,variable_Local2)\n",
    "\n",
    "def funcion_4 ():\n",
    "    print (\"Y aquí no la conozco\",variable_Local1,variable_Local2)\n",
    "\n",
    "funcion_3(4)"
   ]
  },
  {
   "cell_type": "markdown",
   "metadata": {},
   "source": [
    "# Ámbito nolocal"
   ]
  },
  {
   "cell_type": "code",
   "execution_count": 5,
   "metadata": {},
   "outputs": [
    {
     "name": "stdout",
     "output_type": "stream",
     "text": [
      "3\n",
      "3\n",
      "4\n"
     ]
    }
   ],
   "source": [
    "def funcion_5():\n",
    "def funcion_6():\n",
    "    print(a)\n",
    "    return\n",
    "\n",
    "a = 3\n",
    "funcion_6()\n",
    "print(a)\n",
    "return\n",
    "\n",
    "a = 4\n",
    "funcion_5()\n",
    "print(a)"
   ]
  },
  {
   "cell_type": "markdown",
   "metadata": {},
   "source": [
    "### Si queremos asignar valor a una variable en una funcion, pero no queremos que Python la considere local, debemos declararla en la función como **nonlocal** "
   ]
  },
  {
   "cell_type": "code",
   "execution_count": null,
   "metadata": {},
   "outputs": [
    {
     "name": "stdout",
     "output_type": "stream",
     "text": [
      "2\n",
      "3\n",
      "1\n"
     ]
    }
   ],
   "source": [
    "def funcion_5():\n",
    "    def funcion_6():\n",
    "        nonlocal a\n",
    "        print(a)\n",
    "        a=3\n",
    "        return\n",
    "    \n",
    "    a = 2\n",
    "    funcion_6()\n",
    "    print(a)\n",
    "    return\n",
    "\n",
    "a = 1\n",
    "funcion_5()\n",
    "print(a)"
   ]
  },
  {
   "cell_type": "markdown",
   "metadata": {},
   "source": [
    "# También es posible, definir funciones con un número variable de argumentos\n",
    "\n",
    "Para definir funciones con un número variable de argumentos colocamos un último parámetro para la función cuyo nombre debe precederse de un signo *:\n",
    "\n",
    "Se suele utilizar el nombre **largs para el parámetro formal**, por List Arguments (argumentos con clave)."
   ]
  },
  {
   "cell_type": "code",
   "execution_count": 21,
   "metadata": {},
   "outputs": [
    {
     "name": "stdout",
     "output_type": "stream",
     "text": [
      "3\n",
      "3\n",
      "4\n"
     ]
    }
   ],
   "source": [
    "def varios:\n",
    "    \n",
    "\n",
    "\n",
    "        \n",
    "varios(1, 2)\n",
    "varios(1, 2, 3)\n",
    "varios(1, 2, 3, 4)"
   ]
  },
  {
   "cell_type": "markdown",
   "metadata": {},
   "source": [
    "### <font color = AB1010>Nota:</font> Si una función espera recibir parámetros fijos y arbitrarios, los arbitrarios siempre deben suceder a los fijos."
   ]
  },
  {
   "cell_type": "markdown",
   "metadata": {},
   "source": [
    "# Argumentos variables clave-valor (keyword arguments)\n",
    "\n",
    "También se puede preceder el nombre del último parámetro con  \\*\\*, ** en cuyo caso en lugar de una tupla se utilizaría un diccionario**. Las claves de este diccionario serían los nombres de los parámetros indicados al llamar a la función y los valores del diccionario, los valores asociados a estos parámetros.\n",
    "\n",
    "Se suele utilizar el nombre **kwargs para el parámetro formal**, por Keyword Arguments (argumentos con clave)."
   ]
  },
  {
   "cell_type": "code",
   "execution_count": null,
   "metadata": {},
   "outputs": [],
   "source": []
  },
  {
   "cell_type": "code",
   "execution_count": 6,
   "metadata": {},
   "outputs": [
    {
     "name": "stdout",
     "output_type": "stream",
     "text": [
      "50\n",
      "40\n",
      "10\n",
      "200\n"
     ]
    }
   ],
   "source": [
    "def Area\n",
    "    Base = \n",
    "    Altura = \n",
    "    return Base*Altura\n",
    "    \n",
    "print (Area (base=10))\n",
    "print (Area (altura=20))\n",
    "print (Area ())\n",
    "print (Area (base=10,altura=20))"
   ]
  },
  {
   "cell_type": "code",
   "execution_count": null,
   "metadata": {},
   "outputs": [],
   "source": [
    "def mi_switch(i):\n",
    "    return  0 :\"a\",\n",
    "             1 :\"b\",\n",
    "             2 :\"c\",\n",
    "             3 :\"d\" \n",
    "\n",
    "print (mi_switch(2))\n",
    "print (mi_switch(6))"
   ]
  },
  {
   "cell_type": "markdown",
   "metadata": {},
   "source": [
    "# Todo junto\n"
   ]
  },
  {
   "cell_type": "code",
   "execution_count": 7,
   "metadata": {},
   "outputs": [
    {
     "name": "stdout",
     "output_type": "stream",
     "text": [
      "Hola\n",
      "1\n",
      "2\n",
      "3\n",
      "El valor de Nombre es Michel\n",
      "El valor de Apellido es Lopez\n"
     ]
    }
   ],
   "source": [
    "def recorrer_parametros_arbitrarios(parametro_fijo, parametro_fijo2=\"Mundo\",  *arbitrarios, **kwords): \n",
    "    print (parametro_fijo)\n",
    "    print (parametro_fijo2)\n",
    "    for argumento in arbitrarios: \n",
    "        print (argumento) \n",
    " \n",
    "    # Los argumentos arbitrarios tipo clave, se recorren como los diccionarios \n",
    "    for clave in kwords: \n",
    "        print (\"El valor de\", clave, \"es\", kwords[clave])\n",
    "        \n",
    "        \n",
    "recorrer_parametros_arbitrarios(\"Hola\",1,2,3,Nombre =\"Michel\",Apellido=\"Lopez\")"
   ]
  },
  {
   "cell_type": "code",
   "execution_count": null,
   "metadata": {
    "collapsed": true
   },
   "outputs": [],
   "source": []
  },
  {
   "cell_type": "markdown",
   "metadata": {},
   "source": [
    "# Desempaquetado de parámetros\n",
    "\n",
    "Puede ocurrir además, una situación inversa a la anterior. Es decir, que la función espere una lista fija de parámetros, pero que éstos, en vez de estar disponibles de forma separada, se encuentren contenidos en una lista o tupla. \n",
    "\n",
    "En este caso, el signo asterisco (*) deberá preceder al nombre de la lista o tupla que es pasada como parámetro durante la llamada a la función:"
   ]
  },
  {
   "cell_type": "code",
   "execution_count": null,
   "metadata": {},
   "outputs": [],
   "source": [
    "def suma(a,b,c):    \n",
    "    print (a+b+c)\n",
    "\n",
    "a= [1,2,3]    \n",
    "\n",
    "\n",
    "b= (1,2,3)\n",
    "\n",
    "\n",
    "d = {\"a\":1,\"b\":2,\"c\":3}\n"
   ]
  },
  {
   "cell_type": "markdown",
   "metadata": {},
   "source": [
    "# Documentación\n",
    "\n",
    "También podemos encontrarnos con una cadena de texto como primera línea del cuerpo de la función. Estas cadenas se conocen con el nombre de **docstring (cadena de documentación) y sirven, como su nombre indica, a modo de documentación de la función.**"
   ]
  },
  {
   "cell_type": "code",
   "execution_count": null,
   "metadata": {},
   "outputs": [],
   "source": [
    "def mi_funcion(param1, param2):\n",
    "    \"\"\"Esta funcion imprime los dos valores pasados\n",
    "       como parametros\"\"\"\n",
    "    print (param1)\n",
    "    print (param2)\n",
    "mi_funcion(\"Hola\",\"Mundo\")    "
   ]
  },
  {
   "cell_type": "code",
   "execution_count": null,
   "metadata": {},
   "outputs": [],
   "source": [
    "help(mi_funcion)"
   ]
  },
  {
   "cell_type": "markdown",
   "metadata": {},
   "source": [
    "# Función lambda"
   ]
  },
  {
   "cell_type": "code",
   "execution_count": null,
   "metadata": {},
   "outputs": [],
   "source": [
    "\n"
   ]
  },
  {
   "cell_type": "code",
   "execution_count": null,
   "metadata": {},
   "outputs": [],
   "source": []
  },
  {
   "cell_type": "code",
   "execution_count": null,
   "metadata": {},
   "outputs": [],
   "source": []
  },
  {
   "cell_type": "markdown",
   "metadata": {},
   "source": [
    "# Tarea: \n",
    "\n",
    "\n",
    "## Diseña una función que calcule la media de cualquier cantidad de parametros.\n",
    "\n"
   ]
  },
  {
   "cell_type": "code",
   "execution_count": null,
   "metadata": {},
   "outputs": [],
   "source": [
    "    "
   ]
  },
  {
   "cell_type": "markdown",
   "metadata": {},
   "source": [
    "##  Diseña una función que reciba dos parámetros, uno es una lista de enteros, el otro será un valor que se le pida al usuario y este se buscara en la lista.  \n",
    "\n",
    "## Tu programa imprimirá si el elemento se encuentra o no en la lista. \n"
   ]
  },
  {
   "cell_type": "code",
   "execution_count": null,
   "metadata": {},
   "outputs": [],
   "source": []
  },
  {
   "cell_type": "markdown",
   "metadata": {},
   "source": [
    "## Diseña un programa que calcule el número de combinaciones que podemos formar tomando $m$ elementos de un conjunto con $n$ elementos es: \n",
    "\n",
    "$$ C^m_n = \n",
    "\\Bigg(\n",
    "\\begin{array}{c} \n",
    "n \\\\\n",
    "m\n",
    "\\end{array}\n",
    "\\Bigg) = \\frac{n!}{(n-m)!m!} $$\n",
    "\n",
    "\n",
    "- $n$ conjunto con n elementos\n",
    "- $m$ es el numeros de elementos tomados\n",
    "\n",
    "- Si el **orden no importa**, es una **combinación**.\n",
    "- Si el **orden sí importa** es una **permutación**.\n",
    "\n",
    "## Por ejemplo\n",
    "\n",
    "Sean cuatro elementos **{a,b,c,d}**. \n",
    "\n",
    "Los conjuntos, tomados de tres en tres, que se pueden formar con esos cuatro elementos son:\n",
    "\n",
    "\n",
    "{a , b , c} , {a , b , d } , {a , c , d } y {b , c , d }"
   ]
  },
  {
   "cell_type": "code",
   "execution_count": null,
   "metadata": {
    "collapsed": true
   },
   "outputs": [],
   "source": []
  }
 ],
 "metadata": {
  "hide_input": false,
  "kernelspec": {
   "display_name": "UP",
   "language": "python",
   "name": "python3"
  },
  "language_info": {
   "codemirror_mode": {
    "name": "ipython",
    "version": 3
   },
   "file_extension": ".py",
   "mimetype": "text/x-python",
   "name": "python",
   "nbconvert_exporter": "python",
   "pygments_lexer": "ipython3",
   "version": "3.13.5"
  },
  "toc": {
   "base_numbering": 1,
   "nav_menu": {},
   "number_sections": true,
   "sideBar": true,
   "skip_h1_title": false,
   "title_cell": "Table of Contents",
   "title_sidebar": "Contents",
   "toc_cell": false,
   "toc_position": {},
   "toc_section_display": "block",
   "toc_window_display": false
  },
  "varInspector": {
   "cols": {
    "lenName": 16,
    "lenType": 16,
    "lenVar": 40
   },
   "kernels_config": {
    "python": {
     "delete_cmd_postfix": "",
     "delete_cmd_prefix": "del ",
     "library": "var_list.py",
     "varRefreshCmd": "print(var_dic_list())"
    },
    "r": {
     "delete_cmd_postfix": ") ",
     "delete_cmd_prefix": "rm(",
     "library": "var_list.r",
     "varRefreshCmd": "cat(var_dic_list()) "
    }
   },
   "types_to_exclude": [
    "module",
    "function",
    "builtin_function_or_method",
    "instance",
    "_Feature"
   ],
   "window_display": false
  }
 },
 "nbformat": 4,
 "nbformat_minor": 1
}
