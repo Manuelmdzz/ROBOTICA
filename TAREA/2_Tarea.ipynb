{
 "cells": [
  {
   "cell_type": "markdown",
   "id": "652f7451",
   "metadata": {},
   "source": [
    "# Descripción de la tarea:\n",
    "\n",
    "Dada una matriz que representa un mapa con celdas libres (0) y obstáculos (1),\n",
    "\n",
    "diseña un algoritmo que encuentre la ruta más corta desde una celda de inicio\n",
    "\n",
    "hasta una celda objetivo. La ruta debe evitar los obstáculos y moverse solo\n",
    "\n",
    "en direcciones permitidas (por ejemplo, arriba, abajo, izquierda, derecha).\n",
    "\n",
    "El resultado debe ser una lista de coordenadas que representan el camino más corto."
   ]
  },
  {
   "cell_type": "code",
   "execution_count": null,
   "id": "450f27be",
   "metadata": {},
   "outputs": [
    {
     "name": "stdout",
     "output_type": "stream",
     "text": [
      "Movimientos posibles desde (1, 1) : [(1, 2)]\n",
      "Movimiento a: 1 2\n",
      "[3, 3, 3, 3, 3, 3, 3]\n",
      "[3, 2, 0, 0, 0, 1, 3]\n",
      "[3, 1, 1, 0, 1, 1, 3]\n",
      "[3, 0, 0, 0, 0, 0, 3]\n",
      "[3, 1, 1, 0, 1, 0, 3]\n",
      "[3, 0, 0, 0, 0, 0, 3]\n",
      "[3, 3, 3, 3, 3, 3, 3]\n",
      "-----\n",
      "Movimientos posibles desde (1, 2) : [(1, 3)]\n",
      "Movimiento a: 1 3\n",
      "[3, 3, 3, 3, 3, 3, 3]\n",
      "[3, 2, 2, 0, 0, 1, 3]\n",
      "[3, 1, 1, 0, 1, 1, 3]\n",
      "[3, 0, 0, 0, 0, 0, 3]\n",
      "[3, 1, 1, 0, 1, 0, 3]\n",
      "[3, 0, 0, 0, 0, 0, 3]\n",
      "[3, 3, 3, 3, 3, 3, 3]\n",
      "-----\n",
      "Movimientos posibles desde (1, 3) : [(2, 3), (1, 4)]\n",
      "Movimiento a: 2 3\n",
      "[3, 3, 3, 3, 3, 3, 3]\n",
      "[3, 2, 2, 2, 0, 1, 3]\n",
      "[3, 1, 1, 0, 1, 1, 3]\n",
      "[3, 0, 0, 0, 0, 0, 3]\n",
      "[3, 1, 1, 0, 1, 0, 3]\n",
      "[3, 0, 0, 0, 0, 0, 3]\n",
      "[3, 3, 3, 3, 3, 3, 3]\n",
      "-----\n",
      "Movimientos posibles desde (2, 3) : [(3, 3)]\n",
      "Movimiento a: 3 3\n",
      "[3, 3, 3, 3, 3, 3, 3]\n",
      "[3, 2, 2, 2, 0, 1, 3]\n",
      "[3, 1, 1, 2, 1, 1, 3]\n",
      "[3, 0, 0, 0, 0, 0, 3]\n",
      "[3, 1, 1, 0, 1, 0, 3]\n",
      "[3, 0, 0, 0, 0, 0, 3]\n",
      "[3, 3, 3, 3, 3, 3, 3]\n",
      "-----\n",
      "Movimientos posibles desde (3, 3) : [(4, 3), (3, 4), (3, 2)]\n",
      "Movimiento a: 4 3\n",
      "[3, 3, 3, 3, 3, 3, 3]\n",
      "[3, 2, 2, 2, 0, 1, 3]\n",
      "[3, 1, 1, 2, 1, 1, 3]\n",
      "[3, 0, 0, 2, 0, 0, 3]\n",
      "[3, 1, 1, 0, 1, 0, 3]\n",
      "[3, 0, 0, 0, 0, 0, 3]\n",
      "[3, 3, 3, 3, 3, 3, 3]\n",
      "-----\n",
      "Movimientos posibles desde (4, 3) : [(5, 3)]\n",
      "Movimiento a: 5 3\n",
      "[3, 3, 3, 3, 3, 3, 3]\n",
      "[3, 2, 2, 2, 0, 1, 3]\n",
      "[3, 1, 1, 2, 1, 1, 3]\n",
      "[3, 0, 0, 2, 0, 0, 3]\n",
      "[3, 1, 1, 2, 1, 0, 3]\n",
      "[3, 0, 0, 0, 0, 0, 3]\n",
      "[3, 3, 3, 3, 3, 3, 3]\n",
      "-----\n",
      "Movimientos posibles desde (5, 3) : [(5, 4), (5, 2)]\n",
      "Movimiento a: 5 4\n",
      "[3, 3, 3, 3, 3, 3, 3]\n",
      "[3, 2, 2, 2, 0, 1, 3]\n",
      "[3, 1, 1, 2, 1, 1, 3]\n",
      "[3, 0, 0, 2, 0, 0, 3]\n",
      "[3, 1, 1, 2, 1, 0, 3]\n",
      "[3, 0, 0, 2, 0, 0, 3]\n",
      "[3, 3, 3, 3, 3, 3, 3]\n",
      "-----\n",
      "Movimientos posibles desde (5, 4) : [(5, 5)]\n",
      "Movimiento a: 5 5\n",
      "[3, 3, 3, 3, 3, 3, 3]\n",
      "[3, 2, 2, 2, 0, 1, 3]\n",
      "[3, 1, 1, 2, 1, 1, 3]\n",
      "[3, 0, 0, 2, 0, 0, 3]\n",
      "[3, 1, 1, 2, 1, 0, 3]\n",
      "[3, 0, 0, 2, 2, 0, 3]\n",
      "[3, 3, 3, 3, 3, 3, 3]\n",
      "-----\n",
      "camino encontrado:  [(1, 2), (1, 3), (2, 3), (3, 3), (4, 3), (5, 3), (5, 4), (5, 5)]\n",
      "[3, 3, 3, 3, 3, 3, 3]\n",
      "[3, 2, 2, 2, 0, 1, 3]\n",
      "[3, 1, 1, 2, 1, 1, 3]\n",
      "[3, 0, 0, 2, 0, 0, 3]\n",
      "[3, 1, 1, 2, 1, 0, 3]\n",
      "[3, 0, 0, 2, 2, 0, 3]\n",
      "[3, 3, 3, 3, 3, 3, 3]\n",
      "\n",
      " Grid original:\n",
      "[3, 3, 3, 3, 3, 3, 3]\n",
      "[3, 2, 2, 2, 0, 1, 3]\n",
      "[3, 1, 1, 2, 1, 1, 3]\n",
      "[3, 0, 0, 2, 0, 0, 3]\n",
      "[3, 1, 1, 2, 1, 0, 3]\n",
      "[3, 0, 0, 2, 2, 0, 3]\n",
      "[3, 3, 3, 3, 3, 3, 3]\n"
     ]
    }
   ],
   "source": [
    "# Ejemplo de uso\n",
    "grid = [\n",
    "    [3, 3, 3, 3, 3, 3, 3],\n",
    "    [3, 0, 0, 0, 0, 1, 3],\n",
    "    [3, 1, 1, 1, 0, 1, 3],\n",
    "    [3, 0, 0, 0, 0, 0, 3],\n",
    "    [3, 1, 1, 0, 1, 0, 3],\n",
    "    [3, 0, 0, 0, 0, 0, 3],\n",
    "    [3, 3, 3, 3, 3, 3, 3]\n",
    "\n",
    "]\n",
    "\n",
    "start = (1,1)\n",
    "goal  = (5, 5)\n",
    "\n",
    "def posibles(grid, position):\n",
    "    y, x = position\n",
    "    moves = []\n",
    "    if(grid[y + 1][x] == 0): moves.append((y + 1, x))\n",
    "    if(grid[y][x + 1] == 0): moves.append((y, x + 1))\n",
    "    if(grid[y - 1][x] == 0): moves.append((y - 1, x))\n",
    "    if(grid[y][x - 1] == 0): moves.append((y, x - 1)) \n",
    "    print(\"Movimientos posibles desde\", position, \":\", moves)\n",
    "    return moves  \n",
    "\n",
    "def a_star(grid, start, goal):\n",
    "    grid2 = grid\n",
    "    position = start\n",
    "    y, x = start\n",
    "    selected = []\n",
    "    while position != goal:\n",
    "\n",
    "        grid2[y][x] = 2\n",
    "        moves = posibles(grid, position)\n",
    "        if not moves:\n",
    "            print(\"No hay movimientos posibles desde\", position)\n",
    "            break\n",
    "        position = moves[0]  # Selecciona el primer movimiento posible\n",
    "\n",
    "        y,x = moves[0]  # Selecciona el primer movimiento posible\n",
    "        print(\"Movimiento a:\", y, x)\n",
    "        selected.append(position)\n",
    "\n",
    "        for i in range(7):\n",
    "            print(grid2[i])\n",
    "        print(\"-----\")\n",
    "    return selected, grid2\n",
    "\n",
    "path = a_star(grid, start, goal)\n",
    "print(\"camino encontrado: \", path[0])\n",
    "for i in range(7):\n",
    "    print(path[1][i])\n",
    "\n",
    "print(\"\\n\",\"Grid original:\")\n",
    "for i in range(7):\n",
    "    print(grid[i])"
   ]
  },
  {
   "cell_type": "code",
   "execution_count": 58,
   "id": "f9389da2",
   "metadata": {},
   "outputs": [
    {
     "data": {
      "text/plain": [
       "[(2, 1), (3, 1), (3, 2), (3, 3), (4, 3), (5, 3), (5, 4), (5, 5)]"
      ]
     },
     "execution_count": 58,
     "metadata": {},
     "output_type": "execute_result"
    }
   ],
   "source": [
    "path\n"
   ]
  },
  {
   "cell_type": "code",
   "execution_count": 59,
   "id": "27f51fd2",
   "metadata": {},
   "outputs": [
    {
     "data": {
      "text/plain": [
       "[[3, 3, 3, 3, 3, 3, 3],\n",
       " [3, 2, 0, 0, 0, 1, 3],\n",
       " [3, 2, 1, 1, 0, 1, 3],\n",
       " [3, 2, 2, 2, 0, 0, 3],\n",
       " [3, 1, 1, 2, 1, 0, 3],\n",
       " [3, 0, 0, 2, 2, 0, 3],\n",
       " [3, 3, 3, 3, 3, 3, 3]]"
      ]
     },
     "execution_count": 59,
     "metadata": {},
     "output_type": "execute_result"
    }
   ],
   "source": [
    "grid"
   ]
  },
  {
   "cell_type": "code",
   "execution_count": 25,
   "id": "c88554e3",
   "metadata": {},
   "outputs": [
    {
     "data": {
      "text/plain": [
       "[[2, 0, 0, 0, 1],\n",
       " [2, 1, 1, 0, 1],\n",
       " [2, 0, 0, 0, 0],\n",
       " [2, 1, 0, 1, 0],\n",
       " [2, 2, 2, 2, 2]]"
      ]
     },
     "execution_count": 25,
     "metadata": {},
     "output_type": "execute_result"
    }
   ],
   "source": [
    "gridpath = grid.copy()\n",
    "for x,y in path:\n",
    "    gridpath[x][y] = 2\n",
    "\n",
    "gridpath"
   ]
  },
  {
   "cell_type": "code",
   "execution_count": null,
   "id": "f360b440",
   "metadata": {},
   "outputs": [
    {
     "data": {
      "text/plain": [
       "(5, 5)"
      ]
     },
     "execution_count": 26,
     "metadata": {},
     "output_type": "execute_result"
    }
   ],
   "source": [
    "\n",
    "grid = [\n",
    "    [0, 0, 0, 0, 1],\n",
    "    [0, 1, 1, 0, 1],\n",
    "    [1, 0, 0, 0, 0],\n",
    "    [0, 1, 0, 1, 0],\n",
    "    [0, 0, 0, 0, 0]\n",
    "]\n",
    "\n"
   ]
  },
  {
   "cell_type": "code",
   "execution_count": 29,
   "id": "cd2b5a63",
   "metadata": {},
   "outputs": [
    {
     "data": {
      "text/plain": [
       "[[0, 0, 0, 0, 1],\n",
       " [0, 1, 1, 0, 1],\n",
       " [1, 0, 0, 0, 0],\n",
       " [0, 1, 0, 1, 0],\n",
       " [0, 0, 0, 0, 0]]"
      ]
     },
     "execution_count": 29,
     "metadata": {},
     "output_type": "execute_result"
    }
   ],
   "source": [
    "grid"
   ]
  },
  {
   "cell_type": "code",
   "execution_count": null,
   "id": "18c25908",
   "metadata": {},
   "outputs": [],
   "source": []
  },
  {
   "cell_type": "code",
   "execution_count": 31,
   "id": "2094217b",
   "metadata": {},
   "outputs": [
    {
     "data": {
      "text/plain": [
       "[[2, 2, 2, 2, 1],\n",
       " [2, 1, 1, 2, 1],\n",
       " [1, 0, 2, 2, 2],\n",
       " [0, 1, 2, 1, 0],\n",
       " [0, 0, 2, 2, 2]]"
      ]
     },
     "execution_count": 31,
     "metadata": {},
     "output_type": "execute_result"
    }
   ],
   "source": [
    "#gridpath = grid.copy()\n",
    "for x,y in path:\n",
    "    gridpath[x][y] = 2\n",
    "\n",
    "gridpath"
   ]
  },
  {
   "cell_type": "code",
   "execution_count": null,
   "id": "c11559cc",
   "metadata": {},
   "outputs": [],
   "source": []
  }
 ],
 "metadata": {
  "kernelspec": {
   "display_name": "UP",
   "language": "python",
   "name": "python3"
  },
  "language_info": {
   "codemirror_mode": {
    "name": "ipython",
    "version": 3
   },
   "file_extension": ".py",
   "mimetype": "text/x-python",
   "name": "python",
   "nbconvert_exporter": "python",
   "pygments_lexer": "ipython3",
   "version": "3.13.5"
  }
 },
 "nbformat": 4,
 "nbformat_minor": 5
}
