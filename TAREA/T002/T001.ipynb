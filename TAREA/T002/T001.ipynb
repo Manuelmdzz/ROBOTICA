{
 "cells": [
  {
   "cell_type": "markdown",
   "id": "1f8a4bad",
   "metadata": {},
   "source": [
    "# Ejercicios de Introducción a Python\n",
    "\n",
    "\n",
    "\n",
    "## Tipos de Datos Básicos y Estructuras de Control\n",
    "\n",
    "\n",
    "\n",
    "### Ejercicio 1: Calculadora de Propinas\n",
    "\n",
    "\n",
    "\n",
    "Escribe un programa que solicite al usuario el monto de una cuenta (float) y el porcentaje de propina que desea dar (int). El programa debe calcular y mostrar la propina y el total a pagar.\n",
    "\n",
    "\n",
    "\n",
    "**Ejemplo de salida:**\n",
    "\n",
    "\n",
    "\n",
    "```\n",
    "\n",
    "Ingresa el monto de la cuenta: 150.75\n",
    "\n",
    "Ingresa el porcentaje de propina: 15\n",
    "\n",
    "Propina: $22.61\n",
    "\n",
    "Total a pagar: $173.36\n",
    "\n",
    "```\n",
    "\n",
    "---"
   ]
  },
  {
   "cell_type": "code",
   "execution_count": 16,
   "id": "c4252ab7",
   "metadata": {},
   "outputs": [
    {
     "name": "stdout",
     "output_type": "stream",
     "text": [
      "Propina: $ 200.0\n",
      "Total a pagar: $ 1200.0\n"
     ]
    }
   ],
   "source": [
    "monto = float(input(\"Ingrese el monto de la cuenta\"))\n",
    "propina = float(input(\"Ingrese el porcentaje de propina\"))\n",
    "Propina_a_Pagar = monto*(propina/100)\n",
    "Total = monto + Propina_a_Pagar\n",
    "print(\"Propina: $\", Propina_a_Pagar)\n",
    "print(\"Total a pagar: $\", Total)"
   ]
  },
  {
   "cell_type": "markdown",
   "id": "b11be7a6",
   "metadata": {},
   "source": [
    "### Ejercicio 2: Contador de Vocales\n",
    "\n",
    "\n",
    "\n",
    "Crea un programa que pida una palabra al usuario (str) y use un ciclo `for` para contar cuántas vocales (a, e, i, o, u) contiene la palabra. Considera tanto mayúsculas como minúsculas.\n",
    "\n",
    "\n",
    "\n",
    "**Ejemplo de salida:**\n",
    "\n",
    "\n",
    "\n",
    "```\n",
    "\n",
    "Ingresa una palabra: Python\n",
    "\n",
    "La palabra \"Python\" tiene 1 vocal(es)\n",
    "\n",
    "```\n",
    "\n",
    "\n",
    "\n",
    "---\n",
    "\n"
   ]
  },
  {
   "cell_type": "code",
   "execution_count": 58,
   "id": "bc33aee2",
   "metadata": {},
   "outputs": [
    {
     "name": "stdout",
     "output_type": "stream",
     "text": [
      "Cantidad de vocales en  Manuel es:  3\n"
     ]
    }
   ],
   "source": [
    "Palabra = input(\"Ingrese la palabra para contar sus vocales\")\n",
    "x = 0\n",
    "vocales = \"AEIOUaeiou\"\n",
    "for n in Palabra:\n",
    "    if n in vocales:\n",
    "        x +=1\n",
    "print(\"Cantidad de vocales en \",Palabra, \"es: \" , x)\n"
   ]
  },
  {
   "cell_type": "markdown",
   "id": "6f081f1e",
   "metadata": {},
   "source": [
    "### Ejercicio 3: Tabla de Multiplicar\n",
    "\n",
    "\n",
    "\n",
    "Solicita al usuario un número entero (int) y usa un ciclo `for` para mostrar su tabla de multiplicar del 1 al 10.\n",
    "\n",
    "\n",
    "\n",
    "**Ejemplo de salida:**\n",
    "\n",
    "\n",
    "\n",
    "```\n",
    "\n",
    "Ingresa un número: 7\n",
    "\n",
    "7 x 1 = 7\n",
    "\n",
    "7 x 2 = 14\n",
    "\n",
    "...\n",
    "\n",
    "7 x 10 = 70\n",
    "\n",
    "```\n",
    "\n",
    "\n",
    "\n",
    "---"
   ]
  },
  {
   "cell_type": "code",
   "execution_count": 62,
   "id": "3460055d",
   "metadata": {},
   "outputs": [
    {
     "name": "stdout",
     "output_type": "stream",
     "text": [
      "5  x  1  =  5\n",
      "5  x  2  =  10\n",
      "5  x  3  =  15\n",
      "5  x  4  =  20\n",
      "5  x  5  =  25\n",
      "5  x  6  =  30\n",
      "5  x  7  =  35\n",
      "5  x  8  =  40\n",
      "5  x  9  =  45\n",
      "5  x  10  =  50\n"
     ]
    }
   ],
   "source": [
    "entero = int(input(\"Ingrese un numero entero: \"))\n",
    "for n in range(1,11):\n",
    "    resultado = entero * n\n",
    "    print(entero,\" x \", n, \" = \", resultado)\n"
   ]
  },
  {
   "cell_type": "markdown",
   "id": "0c2c3f99",
   "metadata": {},
   "source": [
    "### Ejercicio 4: Validador de Contraseña Simple\n",
    "\n",
    "\n",
    "\n",
    "Escribe un programa que pida una contraseña al usuario y use un ciclo `while` para seguir pidiendo la contraseña hasta que tenga al menos 8 caracteres. Al final, muestra la longitud de la contraseña aceptada.\n",
    "\n",
    "\n",
    "\n",
    "**Ejemplo de salida:**\n",
    "\n",
    "\n",
    "\n",
    "```\n",
    "\n",
    "Ingresa tu contraseña: 123\n",
    "\n",
    "Muy corta. Ingresa tu contraseña: 12345678\n",
    "\n",
    "Contraseña aceptada. Longitud: 8 caracteres\n",
    "\n",
    "```\n",
    "\n",
    "\n",
    "\n",
    "---"
   ]
  },
  {
   "cell_type": "code",
   "execution_count": 73,
   "id": "c7b9a91f",
   "metadata": {},
   "outputs": [
    {
     "name": "stdout",
     "output_type": "stream",
     "text": [
      "Contraseña aceptada, Longitud:  8\n"
     ]
    }
   ],
   "source": [
    "contrasena = input(\"Ingrese una contraseña de al menos 8 caracteres\")\n",
    "while len(contrasena) < 8:    \n",
    "    contrasena = input(\"Contraseña muy corta, ingrese al menos 8 caractere\")\n",
    "\n",
    "print(\"Contraseña aceptada, Longitud: \", len(contrasena))"
   ]
  },
  {
   "cell_type": "markdown",
   "id": "52653d5b",
   "metadata": {},
   "source": [
    "### Ejercicio 5: Suma de Números Pares\n",
    "\n",
    "\n",
    "\n",
    "Pide al usuario un número entero (int) y usa un ciclo `for` para calcular la suma de todos los números pares desde 2 hasta ese número (inclusive).\n",
    "\n",
    "\n",
    "\n",
    "**Ejemplo de salida:**\n",
    "\n",
    "\n",
    "\n",
    "```\n",
    "\n",
    "Ingresa un número: 10\n",
    "\n",
    "La suma de números pares desde 2 hasta 10 es: 30\n",
    "\n",
    "(2 + 4 + 6 + 8 + 10 = 30)\n",
    "\n",
    "```\n",
    "\n",
    "\n",
    "\n",
    "---"
   ]
  },
  {
   "cell_type": "code",
   "execution_count": 81,
   "id": "4587df73",
   "metadata": {},
   "outputs": [
    {
     "name": "stdout",
     "output_type": "stream",
     "text": [
      "La suma de numeros pares desde 2 hasta  12 es igual a: 42\n"
     ]
    }
   ],
   "source": [
    "numero = int(input(\"Ingrese un numero para sumar todos los pares\"))\n",
    "suma = 0\n",
    "for n in range(2,numero + 1, 2):\n",
    "    suma = suma + n\n",
    "\n",
    "print(\"La suma de numeros pares desde 2 hasta \", numero, \"es igual a:\",  suma)\n"
   ]
  },
  {
   "cell_type": "markdown",
   "id": "0dd9378c",
   "metadata": {},
   "source": [
    "### Ejercicio 6: Generador de Patrones de Texto\n",
    "\n",
    "\n",
    "\n",
    "Solicita al usuario un carácter (str) y un número de filas (int). Usa ciclos `for` anidados para crear un patrón triangular donde cada fila tiene un carácter más que la anterior.\n",
    "\n",
    "\n",
    "\n",
    "**Ejemplo de salida:**\n",
    "\n",
    "\n",
    "\n",
    "```\n",
    "\n",
    "Ingresa un carácter: *\n",
    "\n",
    "Ingresa número de filas: 4\n",
    "\n",
    "*\n",
    "\n",
    "**\n",
    "\n",
    "***\n",
    "\n",
    "****\n",
    "\n",
    "```\n",
    "\n",
    "\n",
    "\n",
    "---"
   ]
  },
  {
   "cell_type": "code",
   "execution_count": 7,
   "id": "1697e855",
   "metadata": {},
   "outputs": [
    {
     "name": "stdout",
     "output_type": "stream",
     "text": [
      "O\n",
      "OO\n",
      "OOO\n",
      "OOOO\n",
      "OOOOO\n"
     ]
    }
   ],
   "source": [
    "caracter = input(\"Ingrese un caracter: \")\n",
    "\n",
    "while len(caracter) > 1:\n",
    "    caracter = input(\"Ingrese solo un caracter :(\")\n",
    "\n",
    "filas = int(input(\"Ingrese numero de filas\"))\n",
    "\n",
    "for n in range(filas): \n",
    "    for i in range(0,n + 1):\n",
    "        print(caracter, end= \"\")\n",
    "    print()\n"
   ]
  },
  {
   "cell_type": "markdown",
   "id": "6b13ce08",
   "metadata": {},
   "source": [
    "### Ejercicio 7: Calculadora de Promedio con Validación\n",
    "\n",
    "\n",
    "\n",
    "Usa un ciclo `while` para pedir al usuario que ingrese números decimales (float) uno por uno. El programa debe terminar cuando el usuario ingrese -1. Al final, calcula y muestra el promedio de todos los números ingresados (sin contar el -1).\n",
    "\n",
    "\n",
    "\n",
    "**Ejemplo de salida:**\n",
    "\n",
    "\n",
    "\n",
    "```\n",
    "\n",
    "Ingresa un número (-1 para terminar): 8.5\n",
    "\n",
    "Ingresa un número (-1 para terminar): 9.2\n",
    "\n",
    "Ingresa un número (-1 para terminar): 7.8\n",
    "\n",
    "Ingresa un número (-1 para terminar): -1\n",
    "\n",
    "Promedio: 8.50\n",
    "\n",
    "```\n",
    "\n",
    "\n",
    "\n",
    "---"
   ]
  },
  {
   "cell_type": "code",
   "execution_count": 33,
   "id": "f0ea9157",
   "metadata": {},
   "outputs": [
    {
     "name": "stdout",
     "output_type": "stream",
     "text": [
      "Promedio:  8.333333333333334\n",
      "3 25.0\n"
     ]
    }
   ],
   "source": [
    "terminar = float(input(\"Ingrese un numero\"))\n",
    "suma = 0\n",
    "total = 0\n",
    "while terminar != -1:\n",
    "    total = total + 1\n",
    "    suma = suma + terminar\n",
    "    terminar = float(input(\"Ingrese un numero (-1 para terminar)\"))\n",
    "    if(terminar == -1):\n",
    "        break\n",
    "\n",
    "\n",
    "promedio = suma / total\n",
    "\n",
    "print(\"Promedio: \", promedio)\n",
    "print(total, suma)"
   ]
  },
  {
   "cell_type": "markdown",
   "id": "1aa201ff",
   "metadata": {},
   "source": [
    "### Ejercicio 8: Inversor de Palabras\n",
    "\n",
    "\n",
    "\n",
    "Pide al usuario una frase (str) y usa un ciclo `for` para mostrar cada palabra de la frase al revés. Las palabras se separan por espacios.\n",
    "\n",
    "\n",
    "\n",
    "**Ejemplo de salida:**\n",
    "\n",
    "\n",
    "\n",
    "```\n",
    "\n",
    "Ingresa una frase: Hola mundo Python\n",
    "\n",
    "aloH\n",
    "\n",
    "odnum\n",
    "\n",
    "nohtyP\n",
    "\n",
    "```\n",
    "\n",
    "\n",
    "\n",
    "---"
   ]
  },
  {
   "cell_type": "code",
   "execution_count": 107,
   "id": "2931f7d3",
   "metadata": {},
   "outputs": [
    {
     "name": "stdout",
     "output_type": "stream",
     "text": [
      "nohtyp roñes aloH\n"
     ]
    }
   ],
   "source": [
    "frase = input(\"Ingrese una frase para mostrar al reves: \")\n",
    "\n",
    "for palabra in frase:\n",
    "    frase_inv = frase[::-1]\n",
    "\n",
    "print(frase_inv)\n",
    "    "
   ]
  },
  {
   "cell_type": "markdown",
   "id": "10d96fdb",
   "metadata": {},
   "source": [
    "### Ejercicio 9: Juego de Adivinanza Simple\n",
    "\n",
    "\n",
    "\n",
    "Crea un juego donde el programa \"piensa\" en un número del 1 al 20 (puedes usar el número 15 fijo). Usa un ciclo `while` para que el usuario siga adivinando hasta que acierte. Cuenta y muestra el número de intentos.\n",
    "\n",
    "\n",
    "\n",
    "**Ejemplo de salida:**\n",
    "\n",
    "\n",
    "\n",
    "```\n",
    "\n",
    "Adivina el número (1-20): 10\n",
    "\n",
    "Muy bajo. Adivina el número (1-20): 18\n",
    "\n",
    "Muy alto. Adivina el número (1-20): 15\n",
    "\n",
    "¡Correcto! Lo adivinaste en 3 intentos.\n",
    "\n",
    "```\n",
    "\n",
    "\n",
    "\n",
    "---\n",
    "\n"
   ]
  },
  {
   "cell_type": "code",
   "execution_count": 118,
   "id": "c58d0c15",
   "metadata": {},
   "outputs": [
    {
     "name": "stdout",
     "output_type": "stream",
     "text": [
      "10 Numero muy bajo.\n",
      "15 Numero muy bajo.\n",
      "17 Numero muy bajo.\n",
      "19 Numero muy alto\n",
      "Felicidades, el numero era:  18\n"
     ]
    }
   ],
   "source": [
    "import random as random\n",
    "piensa = int(input(\"Escpge un numero del 1 al 20\"))\n",
    "numero = random.randint(1,20)\n",
    "while piensa is not numero:\n",
    "    print(piensa, end= \" \")\n",
    "    if piensa < numero:\n",
    "        print(\"Numero muy bajo.\")\n",
    "    elif piensa > numero:\n",
    "        print(\"Numero muy alto\")\n",
    "    piensa = int(input(\"Adivina el numero (1 - 20): \"))\n",
    "print(\"Felicidades, el numero era: \", numero)"
   ]
  },
  {
   "cell_type": "markdown",
   "id": "7aa54a7b",
   "metadata": {},
   "source": [
    "### Ejercicio 10: Análisis de Texto\n",
    "\n",
    "\n",
    "\n",
    "Pide al usuario que ingrese un texto (str) y realiza el siguiente análisis usando ciclos:\n",
    "\n",
    "\n",
    "\n",
    "- Cuenta el número total de caracteres\n",
    "\n",
    "- Cuenta cuántos espacios hay\n",
    "\n",
    "- Cuenta cuántos dígitos numéricos hay\n",
    "\n",
    "- Muestra la primera y última letra del texto\n",
    "\n",
    "\n",
    "\n",
    "**Ejemplo de salida:**\n",
    "\n",
    "\n",
    "\n",
    "```\n",
    "\n",
    "Ingresa un texto: Hola mundo 123\n",
    "\n",
    "Análisis del texto:\n",
    "\n",
    "- Caracteres totales: 13\n",
    "\n",
    "- Espacios: 2\n",
    "\n",
    "- Dígitos numéricos: 3\n",
    "\n",
    "- Primera letra: H\n",
    "\n",
    "- Última letra: 3\n",
    "\n",
    "```"
   ]
  },
  {
   "cell_type": "code",
   "execution_count": 123,
   "id": "e64d2267",
   "metadata": {},
   "outputs": [
    {
     "name": "stdout",
     "output_type": "stream",
     "text": [
      "Analisis del texto:  Hola mundo Python 1234\n",
      "Caracteres totales:  22\n",
      "Digitos numericos:  4\n",
      "Primera letra:  H\n",
      "Ultima letra:  4\n"
     ]
    }
   ],
   "source": [
    "texto = input(\"Ingresa un texto porfa\")\n",
    "caracteres = 0\n",
    "espacios = 0\n",
    "num_digitos = 0\n",
    "\n",
    "digitos = \"1234567890\"\n",
    "\n",
    "for n in texto:\n",
    "    caracteres += 1\n",
    "    if n in digitos: num_digitos += 1\n",
    "    if n == \" \": espacios += 1\n",
    "print(\"Analisis del texto: \", texto)\n",
    "print(\"Caracteres totales: \", caracteres)\n",
    "print(\"Digitos numericos: \", num_digitos)\n",
    "print(\"Primera letra: \", texto[0])\n",
    "print(\"Ultima letra: \", texto[len(texto)- 1])\n",
    "\n"
   ]
  }
 ],
 "metadata": {
  "kernelspec": {
   "display_name": "UP",
   "language": "python",
   "name": "python3"
  },
  "language_info": {
   "codemirror_mode": {
    "name": "ipython",
    "version": 3
   },
   "file_extension": ".py",
   "mimetype": "text/x-python",
   "name": "python",
   "nbconvert_exporter": "python",
   "pygments_lexer": "ipython3",
   "version": "3.13.5"
  }
 },
 "nbformat": 4,
 "nbformat_minor": 5
}
